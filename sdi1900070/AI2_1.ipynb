{
  "nbformat": 4,
  "nbformat_minor": 0,
  "metadata": {
    "colab": {
      "provenance": []
    },
    "kernelspec": {
      "name": "python3",
      "display_name": "Python 3"
    },
    "language_info": {
      "name": "python"
    }
  },
  "cells": [
    {
      "cell_type": "markdown",
      "source": [
        "Καμάρης Άγγελος\n",
        "sdi1900070\n",
        "\n",
        "**Τεχνητή Νοημοσύνη ΙΙ**\n",
        "\n",
        "(ακαδ. έτος 2022-23)"
      ],
      "metadata": {
        "id": "YeoYtv6I2JzB"
      }
    },
    {
      "cell_type": "code",
      "source": [
        "#headers used throughout the programm\n",
        "from google.colab import drive\n",
        "drive.mount('/content/drive')\n",
        "\n",
        "import pandas as pd\n",
        "import numpy as np\n",
        "from sklearn.linear_model import LogisticRegression\n",
        "from sklearn.metrics import f1_score\n",
        "from sklearn.model_selection import train_test_split\n",
        "from sklearn.feature_extraction.text import TfidfVectorizer\n",
        "import nltk\n",
        "from nltk.tokenize import RegexpTokenizer\n",
        "nltk.download('stopwords')\n",
        "from nltk.corpus import stopwords\n",
        "from nltk.probability import FreqDist\n",
        "nltk.download('wordnet')\n",
        "nltk.download('omw-1.4')\n",
        "nltk.download('punkt')\n",
        "from nltk.stem import WordNetLemmatizer\n",
        "from nltk.stem.snowball import SnowballStemmer\n",
        "from sklearn.model_selection import cross_val_score\n",
        "from sklearn.metrics import recall_score\n",
        "from sklearn.metrics import precision_score"
      ],
      "metadata": {
        "colab": {
          "base_uri": "https://localhost:8080/"
        },
        "id": "o3IWI74AQG-n",
        "outputId": "24d044cf-6c0c-4f4a-b259-c96a031ed104"
      },
      "execution_count": 67,
      "outputs": [
        {
          "output_type": "stream",
          "name": "stdout",
          "text": [
            "Drive already mounted at /content/drive; to attempt to forcibly remount, call drive.mount(\"/content/drive\", force_remount=True).\n"
          ]
        },
        {
          "output_type": "stream",
          "name": "stderr",
          "text": [
            "[nltk_data] Downloading package stopwords to /root/nltk_data...\n",
            "[nltk_data]   Package stopwords is already up-to-date!\n",
            "[nltk_data] Downloading package wordnet to /root/nltk_data...\n",
            "[nltk_data]   Package wordnet is already up-to-date!\n",
            "[nltk_data] Downloading package omw-1.4 to /root/nltk_data...\n",
            "[nltk_data]   Package omw-1.4 is already up-to-date!\n",
            "[nltk_data] Downloading package punkt to /root/nltk_data...\n",
            "[nltk_data]   Package punkt is already up-to-date!\n"
          ]
        }
      ]
    },
    {
      "cell_type": "code",
      "execution_count": 68,
      "metadata": {
        "colab": {
          "base_uri": "https://localhost:8080/",
          "height": 781
        },
        "id": "0R1eNays2EQU",
        "outputId": "1b9fbfff-f572-4724-b3a5-952c3d3e81c9"
      },
      "outputs": [
        {
          "output_type": "stream",
          "name": "stdout",
          "text": [
            "                                                    url  rating  \\\n",
            "0      http://www.imdb.com/title/tt0120623/usercomments    10.0   \n",
            "1      http://www.imdb.com/title/tt0043117/usercomments     9.0   \n",
            "2      http://www.imdb.com/title/tt0043117/usercomments    10.0   \n",
            "3      http://www.imdb.com/title/tt0835204/usercomments     4.0   \n",
            "4      http://www.imdb.com/title/tt0499603/usercomments    10.0   \n",
            "...                                                 ...     ...   \n",
            "45003  http://www.imdb.com/title/tt0449000/usercomments     1.0   \n",
            "45004  http://www.imdb.com/title/tt0109382/usercomments     1.0   \n",
            "45005  http://www.imdb.com/title/tt0375560/usercomments     1.0   \n",
            "45006  http://www.imdb.com/title/tt0165107/usercomments     1.0   \n",
            "45007  http://www.imdb.com/title/tt0041513/usercomments    10.0   \n",
            "\n",
            "                                                  review  \n",
            "0      I thought this was a quiet good movie. It was ...  \n",
            "1      Wagon Master is a very unique film amongst Joh...  \n",
            "2      This film has to be as near to perfect a film ...  \n",
            "3      I gave this 4 stars because it has a lot of in...  \n",
            "4      This movie is really genuine and random. It's ...  \n",
            "...                                                  ...  \n",
            "45003  I don't even know where to begin...<br /><br /...  \n",
            "45004  One of the worst movies I saw in the 90s. I'd ...  \n",
            "45005  Baldwin has really stooped low to make such mo...  \n",
            "45006  If you liked watching Mel Gibson in Million Do...  \n",
            "45007  This is easily the best cinematic version of W...  \n",
            "\n",
            "[45008 rows x 3 columns]\n"
          ]
        },
        {
          "output_type": "execute_result",
          "data": {
            "text/plain": [
              "             rating\n",
              "count  45008.000000\n",
              "mean       5.481914\n",
              "std        3.494293\n",
              "min        1.000000\n",
              "25%        2.000000\n",
              "50%        7.000000\n",
              "75%        9.000000\n",
              "max       10.000000"
            ],
            "text/html": [
              "\n",
              "  <div id=\"df-426ddf4b-063e-47a4-9b03-ba9f7da1622d\">\n",
              "    <div class=\"colab-df-container\">\n",
              "      <div>\n",
              "<style scoped>\n",
              "    .dataframe tbody tr th:only-of-type {\n",
              "        vertical-align: middle;\n",
              "    }\n",
              "\n",
              "    .dataframe tbody tr th {\n",
              "        vertical-align: top;\n",
              "    }\n",
              "\n",
              "    .dataframe thead th {\n",
              "        text-align: right;\n",
              "    }\n",
              "</style>\n",
              "<table border=\"1\" class=\"dataframe\">\n",
              "  <thead>\n",
              "    <tr style=\"text-align: right;\">\n",
              "      <th></th>\n",
              "      <th>rating</th>\n",
              "    </tr>\n",
              "  </thead>\n",
              "  <tbody>\n",
              "    <tr>\n",
              "      <th>count</th>\n",
              "      <td>45008.000000</td>\n",
              "    </tr>\n",
              "    <tr>\n",
              "      <th>mean</th>\n",
              "      <td>5.481914</td>\n",
              "    </tr>\n",
              "    <tr>\n",
              "      <th>std</th>\n",
              "      <td>3.494293</td>\n",
              "    </tr>\n",
              "    <tr>\n",
              "      <th>min</th>\n",
              "      <td>1.000000</td>\n",
              "    </tr>\n",
              "    <tr>\n",
              "      <th>25%</th>\n",
              "      <td>2.000000</td>\n",
              "    </tr>\n",
              "    <tr>\n",
              "      <th>50%</th>\n",
              "      <td>7.000000</td>\n",
              "    </tr>\n",
              "    <tr>\n",
              "      <th>75%</th>\n",
              "      <td>9.000000</td>\n",
              "    </tr>\n",
              "    <tr>\n",
              "      <th>max</th>\n",
              "      <td>10.000000</td>\n",
              "    </tr>\n",
              "  </tbody>\n",
              "</table>\n",
              "</div>\n",
              "      <button class=\"colab-df-convert\" onclick=\"convertToInteractive('df-426ddf4b-063e-47a4-9b03-ba9f7da1622d')\"\n",
              "              title=\"Convert this dataframe to an interactive table.\"\n",
              "              style=\"display:none;\">\n",
              "        \n",
              "  <svg xmlns=\"http://www.w3.org/2000/svg\" height=\"24px\"viewBox=\"0 0 24 24\"\n",
              "       width=\"24px\">\n",
              "    <path d=\"M0 0h24v24H0V0z\" fill=\"none\"/>\n",
              "    <path d=\"M18.56 5.44l.94 2.06.94-2.06 2.06-.94-2.06-.94-.94-2.06-.94 2.06-2.06.94zm-11 1L8.5 8.5l.94-2.06 2.06-.94-2.06-.94L8.5 2.5l-.94 2.06-2.06.94zm10 10l.94 2.06.94-2.06 2.06-.94-2.06-.94-.94-2.06-.94 2.06-2.06.94z\"/><path d=\"M17.41 7.96l-1.37-1.37c-.4-.4-.92-.59-1.43-.59-.52 0-1.04.2-1.43.59L10.3 9.45l-7.72 7.72c-.78.78-.78 2.05 0 2.83L4 21.41c.39.39.9.59 1.41.59.51 0 1.02-.2 1.41-.59l7.78-7.78 2.81-2.81c.8-.78.8-2.07 0-2.86zM5.41 20L4 18.59l7.72-7.72 1.47 1.35L5.41 20z\"/>\n",
              "  </svg>\n",
              "      </button>\n",
              "      \n",
              "  <style>\n",
              "    .colab-df-container {\n",
              "      display:flex;\n",
              "      flex-wrap:wrap;\n",
              "      gap: 12px;\n",
              "    }\n",
              "\n",
              "    .colab-df-convert {\n",
              "      background-color: #E8F0FE;\n",
              "      border: none;\n",
              "      border-radius: 50%;\n",
              "      cursor: pointer;\n",
              "      display: none;\n",
              "      fill: #1967D2;\n",
              "      height: 32px;\n",
              "      padding: 0 0 0 0;\n",
              "      width: 32px;\n",
              "    }\n",
              "\n",
              "    .colab-df-convert:hover {\n",
              "      background-color: #E2EBFA;\n",
              "      box-shadow: 0px 1px 2px rgba(60, 64, 67, 0.3), 0px 1px 3px 1px rgba(60, 64, 67, 0.15);\n",
              "      fill: #174EA6;\n",
              "    }\n",
              "\n",
              "    [theme=dark] .colab-df-convert {\n",
              "      background-color: #3B4455;\n",
              "      fill: #D2E3FC;\n",
              "    }\n",
              "\n",
              "    [theme=dark] .colab-df-convert:hover {\n",
              "      background-color: #434B5C;\n",
              "      box-shadow: 0px 1px 3px 1px rgba(0, 0, 0, 0.15);\n",
              "      filter: drop-shadow(0px 1px 2px rgba(0, 0, 0, 0.3));\n",
              "      fill: #FFFFFF;\n",
              "    }\n",
              "  </style>\n",
              "\n",
              "      <script>\n",
              "        const buttonEl =\n",
              "          document.querySelector('#df-426ddf4b-063e-47a4-9b03-ba9f7da1622d button.colab-df-convert');\n",
              "        buttonEl.style.display =\n",
              "          google.colab.kernel.accessAllowed ? 'block' : 'none';\n",
              "\n",
              "        async function convertToInteractive(key) {\n",
              "          const element = document.querySelector('#df-426ddf4b-063e-47a4-9b03-ba9f7da1622d');\n",
              "          const dataTable =\n",
              "            await google.colab.kernel.invokeFunction('convertToInteractive',\n",
              "                                                     [key], {});\n",
              "          if (!dataTable) return;\n",
              "\n",
              "          const docLinkHtml = 'Like what you see? Visit the ' +\n",
              "            '<a target=\"_blank\" href=https://colab.research.google.com/notebooks/data_table.ipynb>data table notebook</a>'\n",
              "            + ' to learn more about interactive tables.';\n",
              "          element.innerHTML = '';\n",
              "          dataTable['output_type'] = 'display_data';\n",
              "          await google.colab.output.renderOutput(dataTable, element);\n",
              "          const docLink = document.createElement('div');\n",
              "          docLink.innerHTML = docLinkHtml;\n",
              "          element.appendChild(docLink);\n",
              "        }\n",
              "      </script>\n",
              "    </div>\n",
              "  </div>\n",
              "  "
            ]
          },
          "metadata": {},
          "execution_count": 68
        }
      ],
      "source": [
        "\n",
        "file=open('/content/drive/MyDrive/imdb-reviews.csv','r', encoding=\"utf-8\")\n",
        "\n",
        "df= pd.read_csv(file, sep='\\t' , on_bad_lines='skip')       #open the file stored in the drive and seperate it by tabs\n",
        "test_df = None\n",
        "\n",
        "#test_df=pd.read_csv(\"file name\", sep='\\t' , on_bad_lines='skip')   #you can use this to create a test dataframe, but you must enter the filename of the variable that holds the file.\n",
        "\n",
        "print(df)\n",
        "\n",
        "df.describe()\n",
        "\n"
      ]
    },
    {
      "cell_type": "code",
      "source": [
        "def preprocess(df):       #This function \n",
        "\n",
        "  stopwords = nltk.corpus.stopwords.words(\"english\")      #make a list of stopwords, from the english language\n",
        "\n",
        "  df['review'] = df['review'].astype(str).str.lower()     #make everything lowercase\n",
        "  regexp = RegexpTokenizer('\\w+')\n",
        "  df['review']=df['review'].apply(regexp.tokenize)        #tokenize the reviews from strings to lists of words\n",
        "\n",
        "\n",
        "  df['review'] = df['review'].apply(lambda x: [item for item in x if item not in stopwords])    #remove all stopwords from those lists\n",
        "\n",
        "\n",
        "  bigwords = df['review'].apply(lambda x: ' '.join([item for item in x if len(item)>2]))      #keep only words that contain more that 2 letters\n",
        "\n",
        "  all_words = ' '.join([word for word in bigwords])      #merge them and tokenize them again to create a frequency dictionary\n",
        "  tw = nltk.tokenize.word_tokenize(all_words)\n",
        "\n",
        "  fdist = FreqDist(tw)\n",
        "\n",
        "\n",
        "  df['review'] = df['review'].apply(lambda x: ' '.join([item for item in x if fdist[item] >= 1 ]))  #remove not frequent words\n",
        "\n",
        "\n",
        "  lem = WordNetLemmatizer()\n",
        "\n",
        "  df['review'] = df['review'].apply(lem.lemmatize)                  #lematize\n",
        "\n",
        "\n",
        "  stem = SnowballStemmer(\"english\")\n",
        "\n",
        "  df['review'] = df['review'].str.split().apply(lambda x: [stem.stem(y) for y in x])      #stematize\n",
        "\n",
        "\n",
        "  df['review'] = df['review'].apply(lambda x: ' '.join([item for item in x]))         #merge the lists of words to strings again so they can be passed onto the vectorizer\n",
        "\n",
        "preprocess(df)\n",
        "\n",
        "if test_df != None:                     #if a testset is given, preprocess it\n",
        "  preprocess(test_df)"
      ],
      "metadata": {
        "id": "LNwABMEiR4G8"
      },
      "execution_count": 69,
      "outputs": []
    },
    {
      "cell_type": "code",
      "source": [
        "X=df.drop('rating', axis=1)\n",
        "X=df.drop('url', axis=1)\n",
        "Y = df[['rating']] # [[ ]] used to keep the label\n",
        "Y.loc[Y['rating'] <= 4, 'rating'] = 0                 #keep only valuable data, for X and Y\n",
        "Y.loc[Y['rating'] >= 7, 'rating'] = 1\n",
        "\n",
        "\n",
        "if test_df == None:\n",
        "  X_train_unvect, X_test_unvect, Y_train, Y_test = train_test_split(X, Y, test_size=0.3)              #if we are not given a test set, we will split our current data.\n",
        "else:\n",
        "  X_train_unvect = X\n",
        "  Y_train = Y\n",
        "  X_test_unvect = test_df.drop('rating', axis=1)\n",
        "  X_test_unvect = test_df.drop('url', axis=1)\n",
        "  Y_test = test_df[['rating']] # [[ ]] used to keep the label\n",
        "\n",
        "  Y_test.loc[Y_test['rating'] <= 4, 'rating'] = 0\n",
        "  Y_test.loc[Y_test['rating'] >= 7, 'rating'] = 1\n",
        "\n",
        "vectorizer = TfidfVectorizer(max_features=1000)                   #using a vectorizer to turn strings to arrays.\n",
        "\n",
        "\n",
        "\n",
        "data1=vectorizer.fit_transform(X_train_unvect['review'])               #I only use the reviews for my training\n",
        "X_train = data1.toarray()\n",
        "data2=vectorizer.transform(X_test_unvect['review'] )\n",
        "X_test = data2.toarray()\n",
        "\n"
      ],
      "metadata": {
        "colab": {
          "base_uri": "https://localhost:8080/"
        },
        "id": "Nr-XnPO9QAnV",
        "outputId": "58bfb6ed-05d8-4763-f5c6-df5373d36611"
      },
      "execution_count": 70,
      "outputs": [
        {
          "output_type": "stream",
          "name": "stderr",
          "text": [
            "/usr/local/lib/python3.7/dist-packages/pandas/core/indexing.py:1732: SettingWithCopyWarning: \n",
            "A value is trying to be set on a copy of a slice from a DataFrame\n",
            "\n",
            "See the caveats in the documentation: https://pandas.pydata.org/pandas-docs/stable/user_guide/indexing.html#returning-a-view-versus-a-copy\n",
            "  self._setitem_single_block(indexer, value, name)\n",
            "/usr/local/lib/python3.7/dist-packages/pandas/core/indexing.py:723: SettingWithCopyWarning: \n",
            "A value is trying to be set on a copy of a slice from a DataFrame\n",
            "\n",
            "See the caveats in the documentation: https://pandas.pydata.org/pandas-docs/stable/user_guide/indexing.html#returning-a-view-versus-a-copy\n",
            "  iloc._setitem_with_indexer(indexer, value, self.name)\n"
          ]
        }
      ]
    },
    {
      "cell_type": "code",
      "source": [
        "classifier = LogisticRegression(max_iter=2000)\n",
        "classifier.fit(X_train, np.ravel(Y_train))            #run the classifier"
      ],
      "metadata": {
        "colab": {
          "base_uri": "https://localhost:8080/"
        },
        "id": "NkeH2nrFRYQg",
        "outputId": "95ad27ab-4347-4172-90b8-773473dcc732"
      },
      "execution_count": 71,
      "outputs": [
        {
          "output_type": "execute_result",
          "data": {
            "text/plain": [
              "LogisticRegression(max_iter=2000)"
            ]
          },
          "metadata": {},
          "execution_count": 71
        }
      ]
    },
    {
      "cell_type": "code",
      "source": [
        "import matplotlib.pyplot as plt\n",
        "\n",
        "\n",
        "crossresult=cross_val_score(classifier, X_test, np.ravel(Y_test), cv=20, scoring=\"accuracy\")\n",
        "\n",
        "print(\"accurasy from cross validation: \" + str(crossresult.mean()))\n",
        "\n",
        "list_f1=[]\n",
        "list_f1_train=[]\n",
        "list_sample_size=[]\n",
        "\n",
        "for times in range(10):\n",
        "  # training\n",
        "  #\n",
        "  X, X_unused, y, y_unused = train_test_split(X_train, Y_train, test_size=1 - (times * 0.1 + 0.001))\n",
        "\n",
        "  classifier = LogisticRegression(max_iter=2000)\n",
        "  classifier.fit(X, np.ravel(y))\n",
        "\n",
        "  results_train = classifier.predict(X)\n",
        "\n",
        "  # validation\n",
        "  # \n",
        "  results = classifier.predict(X_test)\n",
        "\n",
        "  # score\n",
        "  #\n",
        "  f1_train = f1_score(y, results_train)\n",
        "  print(\"F1 Score Train: \" + str(f1_train))\n",
        "\n",
        "  f1 = f1_score(Y_test, results)\n",
        "  print(\"F1 Score Validation: \" + str(f1))\n",
        "\n",
        "  list_f1.append(f1)\n",
        "  list_f1_train.append(f1_train)\n",
        "  list_sample_size.append((times * 0.1 + 0.1))\n",
        "\n",
        "# print(plot_data)\n",
        "plt.plot(list_sample_size, list_f1)\n",
        "plt.plot(list_sample_size, list_f1_train)\n",
        "\n",
        "plt.ylim(ymin=0)\n",
        "plt.legend([\"Validation\", \"Training\"])"
      ],
      "metadata": {
        "colab": {
          "base_uri": "https://localhost:8080/",
          "height": 657
        },
        "id": "hS9-FE_7BHRr",
        "outputId": "18213bd3-2ea0-42ed-e602-df9d55cd08da"
      },
      "execution_count": 72,
      "outputs": [
        {
          "output_type": "stream",
          "name": "stdout",
          "text": [
            "accurasy from cross validation: 0.8646242603550297\n",
            "F1 Score Train: 1.0\n",
            "F1 Score Validation: 0.00444642063139173\n",
            "F1 Score Train: 0.9110901665095822\n",
            "F1 Score Validation: 0.8505949757602468\n",
            "F1 Score Train: 0.8969168483338523\n",
            "F1 Score Validation: 0.8569133007084946\n",
            "F1 Score Train: 0.8978483392521412\n",
            "F1 Score Validation: 0.8628140335457409\n",
            "F1 Score Train: 0.8843591370558375\n",
            "F1 Score Validation: 0.8636363636363635\n",
            "F1 Score Train: 0.89041781336002\n",
            "F1 Score Validation: 0.8683768179492801\n",
            "F1 Score Train: 0.8877055599060298\n",
            "F1 Score Validation: 0.8682590855803048\n",
            "F1 Score Train: 0.8843779149824545\n",
            "F1 Score Validation: 0.86897458369851\n",
            "F1 Score Train: 0.882648258550361\n",
            "F1 Score Validation: 0.8691896640070272\n",
            "F1 Score Train: 0.8825555903538992\n",
            "F1 Score Validation: 0.8702659145850121\n"
          ]
        },
        {
          "output_type": "execute_result",
          "data": {
            "text/plain": [
              "<matplotlib.legend.Legend at 0x7feb2020b550>"
            ]
          },
          "metadata": {},
          "execution_count": 72
        },
        {
          "output_type": "display_data",
          "data": {
            "text/plain": [
              "<Figure size 432x288 with 1 Axes>"
            ],
            "image/png": "[encoded data removed]"
          },
          "metadata": {
            "needs_background": "light"
          }
        }
      ]
    },
    {
      "cell_type": "code",
      "source": [
        "predictions_train = classifier.predict(X_train)\n",
        "predictions_val = classifier.predict(X_test)\n",
        "\n",
        "print(predictions_val)\n",
        "print(np.ravel(Y_test))\n",
        "\n",
        "print(predictions_val.sum())\n",
        "print(np.ravel(Y_test).sum())\n",
        "\n",
        "# F-Score\n",
        "\n",
        "f1_train = f1_score(Y_train, predictions_train)\n",
        "f1_val = f1_score(Y_test, predictions_val)\n",
        "\n",
        "print(\"F1 Score (train):\", f1_train)\n",
        "print(\"F1 Score (validation):\", f1_val)\n",
        "\n",
        "# Recall\n",
        "\n",
        "r_train = recall_score(Y_train, predictions_train)\n",
        "r_val = recall_score(Y_test, predictions_val)\n",
        "\n",
        "print(\"Recall Score (train):\", r_train)\n",
        "print(\"Recall Score (validation):\", r_val)\n",
        "\n",
        "# Prediction score\n",
        "\n",
        "p_train = precision_score(Y_train, predictions_train)\n",
        "p_val = precision_score(Y_test, predictions_val)\n",
        "\n",
        "print(\"Precision Score (train):\", p_train)\n",
        "print(\"Precision Score (validation):\", p_val)\n"
      ],
      "metadata": {
        "colab": {
          "base_uri": "https://localhost:8080/"
        },
        "id": "fw8cgGonAj2G",
        "outputId": "401968cc-b8c5-42fb-fd74-e025c451d86b"
      },
      "execution_count": 73,
      "outputs": [
        {
          "output_type": "stream",
          "name": "stdout",
          "text": [
            "[1. 1. 1. ... 0. 1. 1.]\n",
            "[1. 0. 1. ... 0. 1. 1.]\n",
            "6919.0\n",
            "6732.0\n",
            "F1 Score (train): 0.88153321015877\n",
            "F1 Score (validation): 0.8702659145850121\n",
            "Recall Score (train): 0.8921779918864098\n",
            "Recall Score (validation): 0.8823529411764706\n",
            "Precision Score (train): 0.8711394442037507\n",
            "Precision Score (validation): 0.8585055643879174\n"
          ]
        }
      ]
    }
  ]
}