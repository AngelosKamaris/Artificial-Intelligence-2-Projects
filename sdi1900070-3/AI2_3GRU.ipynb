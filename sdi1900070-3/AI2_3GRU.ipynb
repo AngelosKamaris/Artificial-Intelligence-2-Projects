{
  "cells": [
    {
      "cell_type": "markdown",
      "metadata": {
        "id": "MQnfiQc8LHTf"
      },
      "source": [
        "Καμάρης Άγγελος\n",
        "sdi1900070\n",
        "\n",
        "**Τεχνητή Νοημοσύνη ΙΙ**\n",
        "\n",
        "(ακαδ. έτος 2022-23)"
      ]
    },
    {
      "cell_type": "code",
      "execution_count": null,
      "metadata": {
        "colab": {
          "base_uri": "https://localhost:8080/"
        },
        "id": "UPzmAxbXKku9",
        "outputId": "ee261353-bad1-4e91-80f8-92cdd4ac543d"
      },
      "outputs": [
        {
          "output_type": "stream",
          "name": "stdout",
          "text": [
            "Mounted at /content/drive\n"
          ]
        },
        {
          "output_type": "stream",
          "name": "stderr",
          "text": [
            "[nltk_data] Downloading package stopwords to /root/nltk_data...\n",
            "[nltk_data]   Unzipping corpora/stopwords.zip.\n",
            "[nltk_data] Downloading package wordnet to /root/nltk_data...\n",
            "[nltk_data] Downloading package omw-1.4 to /root/nltk_data...\n",
            "[nltk_data] Downloading package punkt to /root/nltk_data...\n",
            "[nltk_data]   Unzipping tokenizers/punkt.zip.\n"
          ]
        },
        {
          "output_type": "stream",
          "name": "stdout",
          "text": [
            "--2023-01-27 12:58:34--  http://nlp.stanford.edu/data/glove.6B.zip\n",
            "Resolving nlp.stanford.edu (nlp.stanford.edu)... 171.64.67.140\n",
            "Connecting to nlp.stanford.edu (nlp.stanford.edu)|171.64.67.140|:80... connected.\n",
            "HTTP request sent, awaiting response... 302 Found\n",
            "Location: https://nlp.stanford.edu/data/glove.6B.zip [following]\n",
            "--2023-01-27 12:58:34--  https://nlp.stanford.edu/data/glove.6B.zip\n",
            "Connecting to nlp.stanford.edu (nlp.stanford.edu)|171.64.67.140|:443... connected.\n",
            "HTTP request sent, awaiting response... 301 Moved Permanently\n",
            "Location: https://downloads.cs.stanford.edu/nlp/data/glove.6B.zip [following]\n",
            "--2023-01-27 12:58:34--  https://downloads.cs.stanford.edu/nlp/data/glove.6B.zip\n",
            "Resolving downloads.cs.stanford.edu (downloads.cs.stanford.edu)... 171.64.64.22\n",
            "Connecting to downloads.cs.stanford.edu (downloads.cs.stanford.edu)|171.64.64.22|:443... connected.\n",
            "HTTP request sent, awaiting response... 200 OK\n",
            "Length: 862182613 (822M) [application/zip]\n",
            "Saving to: ‘glove.6B.zip’\n",
            "\n",
            "glove.6B.zip        100%[===================>] 822.24M  5.01MB/s    in 2m 39s  \n",
            "\n",
            "2023-01-27 13:01:14 (5.16 MB/s) - ‘glove.6B.zip’ saved [862182613/862182613]\n",
            "\n",
            "Archive:  glove.6B.zip\n",
            "  inflating: glove.6B.50d.txt        \n",
            "  inflating: glove.6B.100d.txt       \n",
            "  inflating: glove.6B.200d.txt       \n",
            "  inflating: glove.6B.300d.txt       \n"
          ]
        }
      ],
      "source": [
        "#headers used throughout the programm\n",
        "from google.colab import drive\n",
        "drive.mount('/content/drive')\n",
        "from sklearn.metrics import f1_score\n",
        "import pandas as pd\n",
        "import numpy as np\n",
        "from sklearn.model_selection import train_test_split\n",
        "import nltk\n",
        "nltk.download('stopwords')\n",
        "from nltk.tokenize import RegexpTokenizer\n",
        "from nltk.probability import FreqDist\n",
        "nltk.download('wordnet')\n",
        "nltk.download('omw-1.4')\n",
        "nltk.download('punkt')\n",
        "from nltk.stem import WordNetLemmatizer\n",
        "from sklearn.model_selection import cross_val_score\n",
        "from sklearn.metrics import recall_score\n",
        "from sklearn.metrics import precision_score\n",
        "\n",
        "from gensim.scripts.glove2word2vec import glove2word2vec\n",
        "\n",
        "\n",
        "from gensim.models import KeyedVectors\n",
        "import warnings\n",
        "\n",
        "import torch\n",
        "import torch.nn as nn\n",
        "import matplotlib.pyplot as plt\n",
        "\n",
        "from sklearn.metrics import roc_curve\n",
        "\n",
        "!wget http://nlp.stanford.edu/data/glove.6B.zip\n",
        "!unzip glove*.zip"
      ]
    },
    {
      "cell_type": "code",
      "execution_count": null,
      "metadata": {
        "colab": {
          "base_uri": "https://localhost:8080/",
          "height": 769
        },
        "id": "smaf6nViLLlY",
        "outputId": "915becdf-2ba7-4dd0-f765-c8c240cdc92b"
      },
      "outputs": [
        {
          "output_type": "stream",
          "name": "stdout",
          "text": [
            "                                                    url  rating  \\\n",
            "0      http://www.imdb.com/title/tt0120623/usercomments    10.0   \n",
            "1      http://www.imdb.com/title/tt0043117/usercomments     9.0   \n",
            "2      http://www.imdb.com/title/tt0043117/usercomments    10.0   \n",
            "3      http://www.imdb.com/title/tt0835204/usercomments     4.0   \n",
            "4      http://www.imdb.com/title/tt0499603/usercomments    10.0   \n",
            "...                                                 ...     ...   \n",
            "45003  http://www.imdb.com/title/tt0449000/usercomments     1.0   \n",
            "45004  http://www.imdb.com/title/tt0109382/usercomments     1.0   \n",
            "45005  http://www.imdb.com/title/tt0375560/usercomments     1.0   \n",
            "45006  http://www.imdb.com/title/tt0165107/usercomments     1.0   \n",
            "45007  http://www.imdb.com/title/tt0041513/usercomments    10.0   \n",
            "\n",
            "                                                  review  \n",
            "0      I thought this was a quiet good movie. It was ...  \n",
            "1      Wagon Master is a very unique film amongst Joh...  \n",
            "2      This film has to be as near to perfect a film ...  \n",
            "3      I gave this 4 stars because it has a lot of in...  \n",
            "4      This movie is really genuine and random. It's ...  \n",
            "...                                                  ...  \n",
            "45003  I don't even know where to begin...<br /><br /...  \n",
            "45004  One of the worst movies I saw in the 90s. I'd ...  \n",
            "45005  Baldwin has really stooped low to make such mo...  \n",
            "45006  If you liked watching Mel Gibson in Million Do...  \n",
            "45007  This is easily the best cinematic version of W...  \n",
            "\n",
            "[45008 rows x 3 columns]\n"
          ]
        },
        {
          "output_type": "execute_result",
          "data": {
            "text/plain": [
              "             rating\n",
              "count  45008.000000\n",
              "mean       5.481914\n",
              "std        3.494293\n",
              "min        1.000000\n",
              "25%        2.000000\n",
              "50%        7.000000\n",
              "75%        9.000000\n",
              "max       10.000000"
            ],
            "text/html": [
              "\n",
              "  <div id=\"df-bff30ad8-11d0-431d-a3e9-b81646f40434\">\n",
              "    <div class=\"colab-df-container\">\n",
              "      <div>\n",
              "<style scoped>\n",
              "    .dataframe tbody tr th:only-of-type {\n",
              "        vertical-align: middle;\n",
              "    }\n",
              "\n",
              "    .dataframe tbody tr th {\n",
              "        vertical-align: top;\n",
              "    }\n",
              "\n",
              "    .dataframe thead th {\n",
              "        text-align: right;\n",
              "    }\n",
              "</style>\n",
              "<table border=\"1\" class=\"dataframe\">\n",
              "  <thead>\n",
              "    <tr style=\"text-align: right;\">\n",
              "      <th></th>\n",
              "      <th>rating</th>\n",
              "    </tr>\n",
              "  </thead>\n",
              "  <tbody>\n",
              "    <tr>\n",
              "      <th>count</th>\n",
              "      <td>45008.000000</td>\n",
              "    </tr>\n",
              "    <tr>\n",
              "      <th>mean</th>\n",
              "      <td>5.481914</td>\n",
              "    </tr>\n",
              "    <tr>\n",
              "      <th>std</th>\n",
              "      <td>3.494293</td>\n",
              "    </tr>\n",
              "    <tr>\n",
              "      <th>min</th>\n",
              "      <td>1.000000</td>\n",
              "    </tr>\n",
              "    <tr>\n",
              "      <th>25%</th>\n",
              "      <td>2.000000</td>\n",
              "    </tr>\n",
              "    <tr>\n",
              "      <th>50%</th>\n",
              "      <td>7.000000</td>\n",
              "    </tr>\n",
              "    <tr>\n",
              "      <th>75%</th>\n",
              "      <td>9.000000</td>\n",
              "    </tr>\n",
              "    <tr>\n",
              "      <th>max</th>\n",
              "      <td>10.000000</td>\n",
              "    </tr>\n",
              "  </tbody>\n",
              "</table>\n",
              "</div>\n",
              "      <button class=\"colab-df-convert\" onclick=\"convertToInteractive('df-bff30ad8-11d0-431d-a3e9-b81646f40434')\"\n",
              "              title=\"Convert this dataframe to an interactive table.\"\n",
              "              style=\"display:none;\">\n",
              "        \n",
              "  <svg xmlns=\"http://www.w3.org/2000/svg\" height=\"24px\"viewBox=\"0 0 24 24\"\n",
              "       width=\"24px\">\n",
              "    <path d=\"M0 0h24v24H0V0z\" fill=\"none\"/>\n",
              "    <path d=\"M18.56 5.44l.94 2.06.94-2.06 2.06-.94-2.06-.94-.94-2.06-.94 2.06-2.06.94zm-11 1L8.5 8.5l.94-2.06 2.06-.94-2.06-.94L8.5 2.5l-.94 2.06-2.06.94zm10 10l.94 2.06.94-2.06 2.06-.94-2.06-.94-.94-2.06-.94 2.06-2.06.94z\"/><path d=\"M17.41 7.96l-1.37-1.37c-.4-.4-.92-.59-1.43-.59-.52 0-1.04.2-1.43.59L10.3 9.45l-7.72 7.72c-.78.78-.78 2.05 0 2.83L4 21.41c.39.39.9.59 1.41.59.51 0 1.02-.2 1.41-.59l7.78-7.78 2.81-2.81c.8-.78.8-2.07 0-2.86zM5.41 20L4 18.59l7.72-7.72 1.47 1.35L5.41 20z\"/>\n",
              "  </svg>\n",
              "      </button>\n",
              "      \n",
              "  <style>\n",
              "    .colab-df-container {\n",
              "      display:flex;\n",
              "      flex-wrap:wrap;\n",
              "      gap: 12px;\n",
              "    }\n",
              "\n",
              "    .colab-df-convert {\n",
              "      background-color: #E8F0FE;\n",
              "      border: none;\n",
              "      border-radius: 50%;\n",
              "      cursor: pointer;\n",
              "      display: none;\n",
              "      fill: #1967D2;\n",
              "      height: 32px;\n",
              "      padding: 0 0 0 0;\n",
              "      width: 32px;\n",
              "    }\n",
              "\n",
              "    .colab-df-convert:hover {\n",
              "      background-color: #E2EBFA;\n",
              "      box-shadow: 0px 1px 2px rgba(60, 64, 67, 0.3), 0px 1px 3px 1px rgba(60, 64, 67, 0.15);\n",
              "      fill: #174EA6;\n",
              "    }\n",
              "\n",
              "    [theme=dark] .colab-df-convert {\n",
              "      background-color: #3B4455;\n",
              "      fill: #D2E3FC;\n",
              "    }\n",
              "\n",
              "    [theme=dark] .colab-df-convert:hover {\n",
              "      background-color: #434B5C;\n",
              "      box-shadow: 0px 1px 3px 1px rgba(0, 0, 0, 0.15);\n",
              "      filter: drop-shadow(0px 1px 2px rgba(0, 0, 0, 0.3));\n",
              "      fill: #FFFFFF;\n",
              "    }\n",
              "  </style>\n",
              "\n",
              "      <script>\n",
              "        const buttonEl =\n",
              "          document.querySelector('#df-bff30ad8-11d0-431d-a3e9-b81646f40434 button.colab-df-convert');\n",
              "        buttonEl.style.display =\n",
              "          google.colab.kernel.accessAllowed ? 'block' : 'none';\n",
              "\n",
              "        async function convertToInteractive(key) {\n",
              "          const element = document.querySelector('#df-bff30ad8-11d0-431d-a3e9-b81646f40434');\n",
              "          const dataTable =\n",
              "            await google.colab.kernel.invokeFunction('convertToInteractive',\n",
              "                                                     [key], {});\n",
              "          if (!dataTable) return;\n",
              "\n",
              "          const docLinkHtml = 'Like what you see? Visit the ' +\n",
              "            '<a target=\"_blank\" href=https://colab.research.google.com/notebooks/data_table.ipynb>data table notebook</a>'\n",
              "            + ' to learn more about interactive tables.';\n",
              "          element.innerHTML = '';\n",
              "          dataTable['output_type'] = 'display_data';\n",
              "          await google.colab.output.renderOutput(dataTable, element);\n",
              "          const docLink = document.createElement('div');\n",
              "          docLink.innerHTML = docLinkHtml;\n",
              "          element.appendChild(docLink);\n",
              "        }\n",
              "      </script>\n",
              "    </div>\n",
              "  </div>\n",
              "  "
            ]
          },
          "metadata": {},
          "execution_count": 2
        }
      ],
      "source": [
        "file=open('/content/drive/MyDrive/imdb-reviews.csv','r', encoding=\"utf-8\")\n",
        "\n",
        "df= pd.read_csv(file, sep='\\t' , on_bad_lines='skip')       #open the file stored in the drive and seperate it by tabs\n",
        "test_df = None\n",
        "\n",
        "#test_df=pd.read_csv(\"file name\", sep='\\t' , on_bad_lines='skip')   #you can use this to create a test dataframe, but you must enter the filename of the variable that holds the file.\n",
        "\n",
        "print(df)\n",
        "\n",
        "df.describe()"
      ]
    },
    {
      "cell_type": "code",
      "execution_count": null,
      "metadata": {
        "id": "qkqUJ_zkLPLM"
      },
      "outputs": [],
      "source": [
        "\n",
        "\n",
        "\n",
        "def preprocess(df):       #This function \n",
        "\n",
        "\n",
        "  df['review'] = df['review'].astype(str).str.lower()     #make everything lowercase\n",
        "  regexp = RegexpTokenizer('\\w+')\n",
        "  df['review']=df['review'].apply(regexp.tokenize)        #tokenize the reviews from strings to lists of words\n",
        "\n",
        "\n",
        "  bigwords = df['review'].apply(lambda x: ' '.join([item for item in x if len(item)>2]))      #keep only words that contain more that 2 letters\n",
        "\n",
        "  all_words = ' '.join([word for word in bigwords])      #merge them and tokenize them again to create a frequency dictionary\n",
        "  tw = nltk.tokenize.word_tokenize(all_words)\n",
        "\n",
        "  fdist = FreqDist(tw)\n",
        "\n",
        "\n",
        "  df['review'] = df['review'].apply(lambda x: ' '.join([item for item in x if fdist[item] >= 1 ]))  #remove not frequent words\n",
        "\n",
        "\n",
        "  lem = WordNetLemmatizer()\n",
        "\n",
        "  df['review'] = df['review'].apply(lem.lemmatize)                  #lematize\n",
        "\n",
        "\n",
        "\n",
        "  \n",
        "preprocess(df)\n",
        "\n",
        "if test_df != None:                     #if a testset is given, preprocess it\n",
        "  preprocess(test_df)"
      ]
    },
    {
      "cell_type": "code",
      "execution_count": null,
      "metadata": {
        "colab": {
          "base_uri": "https://localhost:8080/"
        },
        "id": "WtBJEzscLXj_",
        "outputId": "94ab866c-432c-4721-b23a-3f8dd8f4f1d4"
      },
      "outputs": [
        {
          "output_type": "stream",
          "name": "stderr",
          "text": [
            "/usr/local/lib/python3.8/dist-packages/pandas/core/indexing.py:1732: SettingWithCopyWarning: \n",
            "A value is trying to be set on a copy of a slice from a DataFrame\n",
            "\n",
            "See the caveats in the documentation: https://pandas.pydata.org/pandas-docs/stable/user_guide/indexing.html#returning-a-view-versus-a-copy\n",
            "  self._setitem_single_block(indexer, value, name)\n",
            "/usr/local/lib/python3.8/dist-packages/pandas/core/indexing.py:723: SettingWithCopyWarning: \n",
            "A value is trying to be set on a copy of a slice from a DataFrame\n",
            "\n",
            "See the caveats in the documentation: https://pandas.pydata.org/pandas-docs/stable/user_guide/indexing.html#returning-a-view-versus-a-copy\n",
            "  iloc._setitem_with_indexer(indexer, value, self.name)\n"
          ]
        }
      ],
      "source": [
        "X=df.drop('rating', axis=1)\n",
        "X=df.drop('url', axis=1)\n",
        "Y = df[['rating']] # [[ ]] used to keep the label\n",
        "Y.loc[Y['rating'] <= 4, 'rating'] = 0                 #keep only valuable data, for X and Y\n",
        "Y.loc[Y['rating'] >= 7, 'rating'] = 1\n",
        "\n",
        "\n",
        "if test_df == None:\n",
        "  X_train_unvect, X_test_unvect, Y_train, Y_test = train_test_split(X, Y, test_size=0.3)              #if we are not given a test set, we will split our current data.\n",
        "else:\n",
        "  X_train_unvect = X\n",
        "  Y_train = Y\n",
        "  X_test_unvect = test_df.drop('rating', axis=1)\n",
        "  X_test_unvect = test_df.drop('url', axis=1)\n",
        "  Y_test = test_df[['rating']] # [[ ]] used to keep the label\n",
        "\n",
        "  Y_test.loc[Y_test['rating'] <= 4, 'rating'] = 0\n",
        "  Y_test.loc[Y_test['rating'] >= 7, 'rating'] = 1\n",
        "\n",
        "\n",
        "glove_input_file = 'glove.6B.300d.txt'\n",
        "w2v_output_file = 'glv_with_w2v_format.txt'\n",
        "\n",
        "\n",
        "glove2word2vec(glove_input_file, w2v_output_file)\n",
        "\n",
        "\n",
        "data=X_train_unvect['review']\n",
        "data2=X_test_unvect['review']\n",
        "\n",
        "\n",
        "\n",
        "model = KeyedVectors.load_word2vec_format(w2v_output_file, binary=False)\n",
        "\n",
        "warnings.simplefilter(action='ignore', category=FutureWarning)\n",
        "\n",
        "X_train=[]\n",
        "X_test=[]\n",
        "\n",
        "temp=0\n",
        "for row in data.str.split():\n",
        "  sum=0;\n",
        "  c=0;\n",
        "  for w in row:\n",
        "    if w in model.vocab:\n",
        "      sum+=model[w]\n",
        "      temp=model[w]\n",
        "      c+=1\n",
        "  X_train.append(sum/c)\n",
        "\n",
        "temp=0\n",
        "for row in data2.str.split():\n",
        "  sum=0;\n",
        "  c=0;\n",
        "  for w in row:\n",
        "    if w in model.vocab:\n",
        "      sum+=model[w]\n",
        "      temp=model[w]\n",
        "      c+=1\n",
        "  X_test.append(sum/c)\n",
        "\n"
      ]
    },
    {
      "cell_type": "code",
      "execution_count": null,
      "metadata": {
        "colab": {
          "base_uri": "https://localhost:8080/"
        },
        "id": "tTjAtjR2LZk9",
        "outputId": "582fb169-7380-4ea9-af57-ede59bdadf70"
      },
      "outputs": [
        {
          "output_type": "stream",
          "name": "stdout",
          "text": [
            "x train shape: torch.Size([31505, 300])\n",
            "x test shape: torch.Size([13503, 300])\n",
            "y train shape: torch.Size([31505, 1])\n",
            "y test shape: torch.Size([13503, 1])\n"
          ]
        }
      ],
      "source": [
        "X_train_tor=torch.tensor(np.array(X_train), dtype=torch.float)\n",
        "X_test_tor=torch.tensor(np.array(X_test), dtype=torch.float)\n",
        "Y_train_tor=torch.tensor(np.array(Y_train), dtype=torch.long)\n",
        "Y_test_tor=torch.tensor(np.array(Y_test), dtype=torch.float)\n",
        "\n",
        "\n",
        "print(f\"x train shape: {X_train_tor.shape}\")\n",
        "print(f\"x test shape: {X_test_tor.shape}\")\n",
        "print(f\"y train shape: {Y_train_tor.shape}\")\n",
        "print(f\"y test shape: {Y_test_tor.shape}\")"
      ]
    },
    {
      "cell_type": "code",
      "execution_count": null,
      "metadata": {
        "colab": {
          "base_uri": "https://localhost:8080/"
        },
        "id": "V9xJKCqmMoCZ",
        "outputId": "e2d3d53c-eb15-423a-ce77-80fc1f375745"
      },
      "outputs": [
        {
          "output_type": "stream",
          "name": "stdout",
          "text": [
            "Working on: cpu\n"
          ]
        }
      ],
      "source": [
        "# Imports\n",
        "import torch\n",
        "import torch.nn as nn\n",
        "import torch.nn.functional as F\n",
        "import torch.optim as optim\n",
        "import os\n",
        "import numpy as np\n",
        "# import torchvision\n",
        "# import torchvision.transforms as transforms\n",
        "import matplotlib.pyplot as plt\n",
        "%matplotlib inline\n",
        "import sklearn.metrics\n",
        "import seaborn as sns\n",
        "import random\n",
        "import sys\n",
        "from IPython.display import Image\n",
        "\n",
        "def set_seed(seed = 1234):\n",
        "    '''Sets the seed of the entire notebook so results are the same every time we run.\n",
        "        This is for REPRODUCIBILITY.\n",
        "    '''\n",
        "    np.random.seed(seed)\n",
        "    random.seed(seed)\n",
        "    torch.manual_seed(seed)\n",
        "    torch.cuda.manual_seed(seed)\n",
        "    # When running on the CuDNN backend, two further options must be set\n",
        "    torch.backends.cudnn.deterministic = True\n",
        "    # Set a fixed value for the hash seed\n",
        "    os.environ['PYTHONHASHSEED'] = str(seed)\n",
        "    \n",
        "set_seed()\n",
        "\n",
        "device = 'cpu'\n",
        "print('Working on:', device)"
      ]
    },
    {
      "cell_type": "code",
      "execution_count": 78,
      "metadata": {
        "id": "PzgZS5EZOgAU"
      },
      "outputs": [],
      "source": [
        "class RNN(nn.Module):\n",
        "    def __init__(self, cell_type, input_size, hidden_size, layers_size, output_size,clip,  p):\n",
        "        super(RNN, self).__init__()\n",
        "        cells = {\n",
        "        \"RNN\" : nn.RNN,\n",
        "        \"LSTM\"    : nn.LSTM,\n",
        "        \"GRU\"     : nn.GRU\n",
        "        }\n",
        "        self.cell_type = cell_type\n",
        "        self.rnn = cells[cell_type](input_size, hidden_size, layers_size, batch_first=True, bidirectional=True)\n",
        "        self.out = nn.Linear(hidden_size*3, output_size)\n",
        "        self.clip = clip\n",
        "        self.dropout = nn.Dropout(p)\n",
        "        self.attention_weight = nn.Parameter(torch.randn(hidden_size*2))\n",
        "        \n",
        "\n",
        "    def forward(self, x):\n",
        "        if self.cell_type == 'LSTM':\n",
        "            out, (h_n, h_c) = self.rnn(x) \n",
        "        else:\n",
        "            out, h_n = self.rnn(x)\n",
        "        out = self.dropout(out)\n",
        "        attn_scores = torch.sum(out * self.attention_weight, dim=2)\n",
        "        attn_scores = attn_scores.softmax(dim=1)\n",
        "        attn_applied = torch.einsum(\"ij,ijk->ik\", attn_scores, out)\n",
        "        out = torch.cat([x[:, -1, :], attn_applied], dim=-1)\n",
        "        out = self.dropout(out)\n",
        "        out = self.out(out)\n",
        "        return out\n",
        "\n",
        "\n",
        "    def backward(self, loss):\n",
        "        loss.backward()\n",
        "        nn.utils.clip_grad_norm_(self.parameters(), self.clip)\n"
      ]
    },
    {
      "cell_type": "code",
      "execution_count": 79,
      "metadata": {
        "id": "GQGHxet07TW5"
      },
      "outputs": [],
      "source": [
        "cell_type = 'GRU'\n",
        "input_size = 300\n",
        "hidden_size = 300\n",
        "layers_size = 1\n",
        "output_size = 2\n",
        "clip=10\n",
        "p=0.5\n",
        "\n",
        "EPOCH = 100\n",
        "LR = 1e-3\n",
        "\n",
        "# Initialize the model\n",
        "net = RNN(cell_type,input_size, hidden_size, layers_size, output_size,clip,p)\n",
        "\n",
        "optimizer = torch.optim.Adam(net.parameters(), lr=LR)   # optimize all net parameters\n",
        "loss_func = nn.CrossEntropyLoss()"
      ]
    },
    {
      "cell_type": "code",
      "execution_count": 80,
      "metadata": {
        "colab": {
          "base_uri": "https://localhost:8080/",
          "height": 1000
        },
        "id": "hjW4vOGgRGye",
        "outputId": "5952ec9d-3baa-4c70-b60a-aad26d9ea989"
      },
      "outputs": [
        {
          "output_type": "stream",
          "name": "stdout",
          "text": [
            "Epoch   0: Loss = 0.46058\n",
            "Epoch   1: Loss = 0.40544\n",
            "Epoch   2: Loss = 0.39816\n",
            "Epoch   3: Loss = 0.39228\n",
            "Epoch   4: Loss = 0.39104\n",
            "Epoch   5: Loss = 0.38732\n",
            "Epoch   6: Loss = 0.38492\n",
            "Epoch   7: Loss = 0.38300\n",
            "Epoch   8: Loss = 0.38125\n",
            "Epoch   9: Loss = 0.38006\n",
            "Epoch  10: Loss = 0.37807\n",
            "Epoch  11: Loss = 0.37692\n",
            "Epoch  12: Loss = 0.37574\n",
            "Epoch  13: Loss = 0.37470\n",
            "Epoch  14: Loss = 0.37431\n",
            "Epoch  15: Loss = 0.37257\n",
            "Epoch  16: Loss = 0.37114\n",
            "Epoch  17: Loss = 0.36934\n",
            "Epoch  18: Loss = 0.36880\n",
            "Epoch  19: Loss = 0.36763\n",
            "Epoch  20: Loss = 0.36611\n",
            "Epoch  21: Loss = 0.36344\n",
            "Epoch  22: Loss = 0.36417\n",
            "Epoch  23: Loss = 0.36235\n",
            "Epoch  24: Loss = 0.36371\n",
            "Epoch  25: Loss = 0.36132\n",
            "Epoch  26: Loss = 0.36041\n",
            "Epoch  27: Loss = 0.36002\n",
            "Epoch  28: Loss = 0.35850\n",
            "Epoch  29: Loss = 0.35827\n",
            "Epoch  30: Loss = 0.35561\n",
            "Epoch  31: Loss = 0.35650\n",
            "Epoch  32: Loss = 0.35497\n",
            "Epoch  33: Loss = 0.35531\n",
            "Epoch  34: Loss = 0.35285\n",
            "Epoch  35: Loss = 0.35407\n",
            "Epoch  36: Loss = 0.35195\n",
            "Epoch  37: Loss = 0.35165\n",
            "Epoch  38: Loss = 0.35086\n",
            "Epoch  39: Loss = 0.35036\n",
            "Epoch  40: Loss = 0.34982\n",
            "Epoch  41: Loss = 0.34898\n",
            "Epoch  42: Loss = 0.34748\n",
            "Epoch  43: Loss = 0.34756\n",
            "Epoch  44: Loss = 0.34612\n",
            "Epoch  45: Loss = 0.34580\n",
            "Epoch  46: Loss = 0.34513\n",
            "Epoch  47: Loss = 0.34243\n",
            "Epoch  48: Loss = 0.34285\n",
            "Epoch  49: Loss = 0.34080\n",
            "Epoch  50: Loss = 0.34131\n",
            "Epoch  51: Loss = 0.34164\n",
            "Epoch  52: Loss = 0.33972\n",
            "Epoch  53: Loss = 0.33827\n",
            "Epoch  54: Loss = 0.33853\n",
            "Epoch  55: Loss = 0.33769\n",
            "Epoch  56: Loss = 0.33670\n",
            "Epoch  57: Loss = 0.33680\n",
            "Epoch  58: Loss = 0.33574\n",
            "Epoch  59: Loss = 0.33324\n",
            "Epoch  60: Loss = 0.33356\n",
            "Epoch  61: Loss = 0.33186\n",
            "Epoch  62: Loss = 0.33190\n",
            "Epoch  63: Loss = 0.33202\n",
            "Epoch  64: Loss = 0.33025\n",
            "Epoch  65: Loss = 0.32896\n",
            "Epoch  66: Loss = 0.32946\n",
            "Epoch  67: Loss = 0.32921\n",
            "Epoch  68: Loss = 0.32850\n",
            "Epoch  69: Loss = 0.32625\n",
            "Epoch  70: Loss = 0.32815\n",
            "Epoch  71: Loss = 0.32484\n",
            "Epoch  72: Loss = 0.32540\n",
            "Epoch  73: Loss = 0.32213\n",
            "Epoch  74: Loss = 0.32353\n",
            "Epoch  75: Loss = 0.32221\n",
            "Epoch  76: Loss = 0.32034\n",
            "Epoch  77: Loss = 0.32012\n",
            "Epoch  78: Loss = 0.31993\n",
            "Epoch  79: Loss = 0.31731\n",
            "Epoch  80: Loss = 0.31913\n",
            "Epoch  81: Loss = 0.31669\n",
            "Epoch  82: Loss = 0.31685\n",
            "Epoch  83: Loss = 0.31454\n",
            "Epoch  84: Loss = 0.31413\n",
            "Epoch  85: Loss = 0.31480\n",
            "Epoch  86: Loss = 0.31148\n",
            "Epoch  87: Loss = 0.31209\n",
            "Epoch  88: Loss = 0.31034\n",
            "Epoch  89: Loss = 0.31041\n",
            "Epoch  90: Loss = 0.30911\n",
            "Epoch  91: Loss = 0.30752\n",
            "Epoch  92: Loss = 0.30798\n",
            "Epoch  93: Loss = 0.30753\n",
            "Epoch  94: Loss = 0.30596\n",
            "Epoch  95: Loss = 0.30559\n",
            "Epoch  96: Loss = 0.30626\n",
            "Epoch  97: Loss = 0.30416\n",
            "Epoch  98: Loss = 0.30399\n",
            "Epoch  99: Loss = 0.30267\n"
          ]
        },
        {
          "output_type": "execute_result",
          "data": {
            "text/plain": [
              "[<matplotlib.lines.Line2D at 0x7f0265ea1880>]"
            ]
          },
          "metadata": {},
          "execution_count": 80
        },
        {
          "output_type": "display_data",
          "data": {
            "text/plain": [
              "<Figure size 432x288 with 1 Axes>"
            ],
            "image/png": "[encoded data removed]"
          },
          "metadata": {
            "needs_background": "light"
          }
        }
      ],
      "source": [
        "dataset = torch.utils.data.TensorDataset(X_train_tor, Y_train_tor)\n",
        "dataloader = torch.utils.data.DataLoader(dataset, batch_size=20, shuffle=False)\n",
        "\n",
        "\n",
        "# Start train mode\n",
        "net.train()\n",
        "\n",
        "losses=[]\n",
        "for epoch in range(EPOCH):\n",
        "  batch_losses = 0.0\n",
        "\n",
        "  for x_batch, y_batch in dataloader:\n",
        "    # print(x_batch)\n",
        "    # print(y_batch)\n",
        "    x=x_batch.view(-1, 1, 300)\n",
        "    y_pred = net(x)\n",
        "    y=y_batch.view(-1)\n",
        "    # print(x)\n",
        "    # print(y)\n",
        "    # print(y_pred)\n",
        "    loss = loss_func(y_pred, y)\n",
        "    batch_losses+=loss.item()\n",
        "    \n",
        "    #Delete previously stored gradients\n",
        "    optimizer.zero_grad()\n",
        "    #Perform backpropagation starting from the loss calculated in this epoch\n",
        "    loss.backward()\n",
        "    #Update model's weights based on the gradients calculated during backprop\n",
        "    optimizer.step()\n",
        "  losses.append(batch_losses/len(dataloader))\n",
        "  # print(pred_y)\n",
        "  # print(Y_test_tor)\n",
        "  print(f\"Epoch {epoch:3}: Loss = {batch_losses/len(dataloader):.5f}\")\n",
        "\n",
        "plt.plot(list(range(1,EPOCH+1)),losses)\n"
      ]
    },
    {
      "cell_type": "code",
      "execution_count": 81,
      "metadata": {
        "colab": {
          "base_uri": "https://localhost:8080/"
        },
        "id": "ZLjlxh3kJ60N",
        "outputId": "d57b155e-903f-4447-f41d-1ed6322b11dc"
      },
      "outputs": [
        {
          "output_type": "execute_result",
          "data": {
            "text/plain": [
              "0.8540324372361697"
            ]
          },
          "metadata": {},
          "execution_count": 81
        }
      ],
      "source": [
        "from sklearn.metrics import accuracy_score\n",
        "net.eval();\n",
        "test_output = net(X_test_tor.view(-1, 1, 300))\n",
        "pred_y = test_output.view(-1,2)\n",
        "pred_y = pred_y.argmax(dim=1)\n",
        "y=Y_test_tor\n",
        "accuracy_score(y,pred_y)"
      ]
    },
    {
      "cell_type": "code",
      "execution_count": 82,
      "metadata": {
        "colab": {
          "base_uri": "https://localhost:8080/",
          "height": 630
        },
        "id": "49TcpAEgmT4_",
        "outputId": "334620d2-d78b-4a7f-f19a-52fa6670bc10"
      },
      "outputs": [
        {
          "output_type": "stream",
          "name": "stdout",
          "text": [
            "F1 Score Train: 0.8380355276907001\n",
            "F1 Score Validation: 0.8540129521205184\n",
            "F1 Score Train: 0.8812050986767381\n",
            "F1 Score Validation: 0.8540129521205184\n",
            "F1 Score Train: 0.8826563200907087\n",
            "F1 Score Validation: 0.8540129521205184\n",
            "F1 Score Train: 0.8716445314086171\n",
            "F1 Score Validation: 0.8540129521205184\n",
            "F1 Score Train: 0.8814793687307086\n",
            "F1 Score Validation: 0.8540129521205184\n",
            "F1 Score Train: 0.8813626100986403\n",
            "F1 Score Validation: 0.8540129521205184\n",
            "F1 Score Train: 0.8783796283042136\n",
            "F1 Score Validation: 0.8540129521205184\n",
            "F1 Score Train: 0.8808869131871407\n",
            "F1 Score Validation: 0.8540129521205184\n",
            "F1 Score Train: 0.8811407695809461\n",
            "F1 Score Validation: 0.8540129521205184\n",
            "F1 Score Train: 0.880017804733908\n",
            "F1 Score Validation: 0.8540129521205184\n"
          ]
        },
        {
          "output_type": "execute_result",
          "data": {
            "text/plain": [
              "<matplotlib.legend.Legend at 0x7f0260908eb0>"
            ]
          },
          "metadata": {},
          "execution_count": 82
        },
        {
          "output_type": "display_data",
          "data": {
            "text/plain": [
              "<Figure size 432x288 with 1 Axes>"
            ],
            "image/png": "[encoded data removed]"
          },
          "metadata": {
            "needs_background": "light"
          }
        }
      ],
      "source": [
        "list_f1=[]\n",
        "list_f1_train=[]\n",
        "list_sample_size=[]\n",
        "\n",
        "for times in range(10):\n",
        "  # training\n",
        "  #\n",
        "  X, X_unused, y, y_unused = train_test_split(X_train_tor, Y_train_tor, test_size=1 - (times * 0.1 + 0.001))\n",
        "\n",
        "\n",
        "  results_train = net(X.view(-1,1,300)).view(-1,2).argmax(dim=1)\n",
        "\n",
        "  # validation\n",
        "  # \n",
        "  results = net(X_test_tor.view(-1,1,300)).view(-1,2).argmax(dim=1)\n",
        "  \n",
        "\n",
        "  # score\n",
        "  #\n",
        "  f1_train = f1_score(np.array(y.detach().numpy()),results_train.detach().numpy(), average='macro')\n",
        "  print(\"F1 Score Train: \" + str(f1_train))\n",
        "\n",
        "  f1 = f1_score(Y_test, results.detach().numpy(), average='macro')\n",
        "  print(\"F1 Score Validation: \" + str(f1))\n",
        "\n",
        "  list_f1.append(f1)\n",
        "  list_f1_train.append(f1_train)\n",
        "  list_sample_size.append((times * 0.1 + 0.1))\n",
        "\n",
        "# print(plot_data)\n",
        "plt.plot(list_sample_size, list_f1)\n",
        "plt.plot(list_sample_size, list_f1_train)\n",
        "\n",
        "\n",
        "plt.legend([\"Validation\", \"Training\"])"
      ]
    },
    {
      "cell_type": "code",
      "execution_count": 83,
      "metadata": {
        "colab": {
          "base_uri": "https://localhost:8080/"
        },
        "id": "bMGoD1_rmd0O",
        "outputId": "88aec109-f07f-4795-9b05-1764db39f940"
      },
      "outputs": [
        {
          "output_type": "stream",
          "name": "stdout",
          "text": [
            "F1 Score (train): 0.8789439793947199\n",
            "F1 Score (validation): 0.8523263654753878\n",
            "Recall Score (train): 0.8674928503336511\n",
            "Recall Score (validation): 0.83980510851912\n",
            "Precision Score (train): 0.8907014681892332\n",
            "Precision Score (validation): 0.8652266504411318\n"
          ]
        }
      ],
      "source": [
        "predictions_train = net(X_train_tor.view(-1,1,300)).view(-1,2).argmax(dim=1)\n",
        "predictions_val = net(X_test_tor.view(-1,1,300)).view(-1,2).argmax(dim=1)\n",
        "\n",
        "\n",
        "# F-Score\n",
        "\n",
        "f1_train = f1_score(Y_train, predictions_train)\n",
        "f1_val = f1_score(Y_test, predictions_val)\n",
        "\n",
        "print(\"F1 Score (train):\", f1_train)\n",
        "print(\"F1 Score (validation):\", f1_val)\n",
        "\n",
        "# Recall\n",
        "\n",
        "r_train = recall_score(Y_train, predictions_train)\n",
        "r_val = recall_score(Y_test, predictions_val)\n",
        "\n",
        "print(\"Recall Score (train):\", r_train)\n",
        "print(\"Recall Score (validation):\", r_val)\n",
        "\n",
        "# Prediction score\n",
        "\n",
        "p_train = precision_score(Y_train, predictions_train)\n",
        "p_val = precision_score(Y_test, predictions_val)\n",
        "\n",
        "print(\"Precision Score (train):\", p_train)\n",
        "print(\"Precision Score (validation):\", p_val)"
      ]
    },
    {
      "cell_type": "code",
      "source": [
        "PATH='gru_NN.pt'\n",
        "torch.save(net.state_dict(), PATH)\n",
        "model = RNN(cell_type,input_size, hidden_size, layers_size, output_size,clip,p)\n",
        "model.load_state_dict(torch.load(PATH))\n",
        "model.eval()"
      ],
      "metadata": {
        "colab": {
          "base_uri": "https://localhost:8080/"
        },
        "id": "CiZ5mw2pguAl",
        "outputId": "0381f169-1f8c-4823-e1c8-f2b7da7bf746"
      },
      "execution_count": 84,
      "outputs": [
        {
          "output_type": "execute_result",
          "data": {
            "text/plain": [
              "RNN(\n",
              "  (rnn): GRU(300, 300, batch_first=True, bidirectional=True)\n",
              "  (out): Linear(in_features=900, out_features=2, bias=True)\n",
              "  (dropout): Dropout(p=0.5, inplace=False)\n",
              ")"
            ]
          },
          "metadata": {},
          "execution_count": 84
        }
      ]
    }
  ],
  "metadata": {
    "colab": {
      "provenance": []
    },
    "kernelspec": {
      "display_name": "Python 3",
      "name": "python3"
    },
    "language_info": {
      "name": "python"
    }
  },
  "nbformat": 4,
  "nbformat_minor": 0
}