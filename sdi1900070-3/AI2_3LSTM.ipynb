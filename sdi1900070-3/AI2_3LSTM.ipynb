{
  "nbformat": 4,
  "nbformat_minor": 0,
  "metadata": {
    "colab": {
      "provenance": []
    },
    "kernelspec": {
      "name": "python3",
      "display_name": "Python 3"
    },
    "language_info": {
      "name": "python"
    }
  },
  "cells": [
    {
      "cell_type": "markdown",
      "source": [
        "Καμάρης Άγγελος\n",
        "sdi1900070\n",
        "\n",
        "**Τεχνητή Νοημοσύνη ΙΙ**\n",
        "\n",
        "(ακαδ. έτος 2022-23)"
      ],
      "metadata": {
        "id": "MQnfiQc8LHTf"
      }
    },
    {
      "cell_type": "code",
      "execution_count": 1,
      "metadata": {
        "colab": {
          "base_uri": "https://localhost:8080/"
        },
        "id": "UPzmAxbXKku9",
        "outputId": "03676228-159f-4826-94ad-5cf2f98935cb"
      },
      "outputs": [
        {
          "output_type": "stream",
          "name": "stdout",
          "text": [
            "Mounted at /content/drive\n"
          ]
        },
        {
          "output_type": "stream",
          "name": "stderr",
          "text": [
            "[nltk_data] Downloading package stopwords to /root/nltk_data...\n",
            "[nltk_data]   Unzipping corpora/stopwords.zip.\n",
            "[nltk_data] Downloading package wordnet to /root/nltk_data...\n",
            "[nltk_data] Downloading package omw-1.4 to /root/nltk_data...\n",
            "[nltk_data] Downloading package punkt to /root/nltk_data...\n",
            "[nltk_data]   Unzipping tokenizers/punkt.zip.\n"
          ]
        },
        {
          "output_type": "stream",
          "name": "stdout",
          "text": [
            "--2023-01-27 12:57:13--  http://nlp.stanford.edu/data/glove.6B.zip\n",
            "Resolving nlp.stanford.edu (nlp.stanford.edu)... 171.64.67.140\n",
            "Connecting to nlp.stanford.edu (nlp.stanford.edu)|171.64.67.140|:80... connected.\n",
            "HTTP request sent, awaiting response... 302 Found\n",
            "Location: https://nlp.stanford.edu/data/glove.6B.zip [following]\n",
            "--2023-01-27 12:57:13--  https://nlp.stanford.edu/data/glove.6B.zip\n",
            "Connecting to nlp.stanford.edu (nlp.stanford.edu)|171.64.67.140|:443... connected.\n",
            "HTTP request sent, awaiting response... 301 Moved Permanently\n",
            "Location: https://downloads.cs.stanford.edu/nlp/data/glove.6B.zip [following]\n",
            "--2023-01-27 12:57:13--  https://downloads.cs.stanford.edu/nlp/data/glove.6B.zip\n",
            "Resolving downloads.cs.stanford.edu (downloads.cs.stanford.edu)... 171.64.64.22\n",
            "Connecting to downloads.cs.stanford.edu (downloads.cs.stanford.edu)|171.64.64.22|:443... connected.\n",
            "HTTP request sent, awaiting response... 200 OK\n",
            "Length: 862182613 (822M) [application/zip]\n",
            "Saving to: ‘glove.6B.zip’\n",
            "\n",
            "glove.6B.zip        100%[===================>] 822.24M  5.09MB/s    in 2m 39s  \n",
            "\n",
            "2023-01-27 12:59:52 (5.18 MB/s) - ‘glove.6B.zip’ saved [862182613/862182613]\n",
            "\n",
            "Archive:  glove.6B.zip\n",
            "  inflating: glove.6B.50d.txt        \n",
            "  inflating: glove.6B.100d.txt       \n",
            "  inflating: glove.6B.200d.txt       \n",
            "  inflating: glove.6B.300d.txt       \n"
          ]
        }
      ],
      "source": [
        "#headers used throughout the programm\n",
        "from google.colab import drive\n",
        "drive.mount('/content/drive')\n",
        "from sklearn.metrics import f1_score\n",
        "import pandas as pd\n",
        "import numpy as np\n",
        "from sklearn.model_selection import train_test_split\n",
        "import nltk\n",
        "nltk.download('stopwords')\n",
        "from nltk.tokenize import RegexpTokenizer\n",
        "from nltk.probability import FreqDist\n",
        "nltk.download('wordnet')\n",
        "nltk.download('omw-1.4')\n",
        "nltk.download('punkt')\n",
        "from nltk.stem import WordNetLemmatizer\n",
        "from sklearn.model_selection import cross_val_score\n",
        "from sklearn.metrics import recall_score\n",
        "from sklearn.metrics import precision_score\n",
        "\n",
        "from gensim.scripts.glove2word2vec import glove2word2vec\n",
        "\n",
        "\n",
        "from gensim.models import KeyedVectors\n",
        "import warnings\n",
        "\n",
        "import torch\n",
        "import torch.nn as nn\n",
        "import matplotlib.pyplot as plt\n",
        "\n",
        "from sklearn.metrics import roc_curve\n",
        "\n",
        "!wget http://nlp.stanford.edu/data/glove.6B.zip\n",
        "!unzip glove*.zip"
      ]
    },
    {
      "cell_type": "code",
      "source": [
        "file=open('/content/drive/MyDrive/imdb-reviews.csv','r', encoding=\"utf-8\")\n",
        "\n",
        "df= pd.read_csv(file, sep='\\t' , on_bad_lines='skip')       #open the file stored in the drive and seperate it by tabs\n",
        "test_df = None\n",
        "\n",
        "#test_df=pd.read_csv(\"file name\", sep='\\t' , on_bad_lines='skip')   #you can use this to create a test dataframe, but you must enter the filename of the variable that holds the file.\n",
        "\n",
        "print(df)\n",
        "\n",
        "df.describe()"
      ],
      "metadata": {
        "colab": {
          "base_uri": "https://localhost:8080/",
          "height": 769
        },
        "id": "smaf6nViLLlY",
        "outputId": "dcc6d569-47c8-430d-c630-59479a0cf79c"
      },
      "execution_count": 2,
      "outputs": [
        {
          "output_type": "stream",
          "name": "stdout",
          "text": [
            "                                                    url  rating  \\\n",
            "0      http://www.imdb.com/title/tt0120623/usercomments    10.0   \n",
            "1      http://www.imdb.com/title/tt0043117/usercomments     9.0   \n",
            "2      http://www.imdb.com/title/tt0043117/usercomments    10.0   \n",
            "3      http://www.imdb.com/title/tt0835204/usercomments     4.0   \n",
            "4      http://www.imdb.com/title/tt0499603/usercomments    10.0   \n",
            "...                                                 ...     ...   \n",
            "45003  http://www.imdb.com/title/tt0449000/usercomments     1.0   \n",
            "45004  http://www.imdb.com/title/tt0109382/usercomments     1.0   \n",
            "45005  http://www.imdb.com/title/tt0375560/usercomments     1.0   \n",
            "45006  http://www.imdb.com/title/tt0165107/usercomments     1.0   \n",
            "45007  http://www.imdb.com/title/tt0041513/usercomments    10.0   \n",
            "\n",
            "                                                  review  \n",
            "0      I thought this was a quiet good movie. It was ...  \n",
            "1      Wagon Master is a very unique film amongst Joh...  \n",
            "2      This film has to be as near to perfect a film ...  \n",
            "3      I gave this 4 stars because it has a lot of in...  \n",
            "4      This movie is really genuine and random. It's ...  \n",
            "...                                                  ...  \n",
            "45003  I don't even know where to begin...<br /><br /...  \n",
            "45004  One of the worst movies I saw in the 90s. I'd ...  \n",
            "45005  Baldwin has really stooped low to make such mo...  \n",
            "45006  If you liked watching Mel Gibson in Million Do...  \n",
            "45007  This is easily the best cinematic version of W...  \n",
            "\n",
            "[45008 rows x 3 columns]\n"
          ]
        },
        {
          "output_type": "execute_result",
          "data": {
            "text/plain": [
              "             rating\n",
              "count  45008.000000\n",
              "mean       5.481914\n",
              "std        3.494293\n",
              "min        1.000000\n",
              "25%        2.000000\n",
              "50%        7.000000\n",
              "75%        9.000000\n",
              "max       10.000000"
            ],
            "text/html": [
              "\n",
              "  <div id=\"df-8c2c3903-e043-49c3-b20c-3b446404eeb3\">\n",
              "    <div class=\"colab-df-container\">\n",
              "      <div>\n",
              "<style scoped>\n",
              "    .dataframe tbody tr th:only-of-type {\n",
              "        vertical-align: middle;\n",
              "    }\n",
              "\n",
              "    .dataframe tbody tr th {\n",
              "        vertical-align: top;\n",
              "    }\n",
              "\n",
              "    .dataframe thead th {\n",
              "        text-align: right;\n",
              "    }\n",
              "</style>\n",
              "<table border=\"1\" class=\"dataframe\">\n",
              "  <thead>\n",
              "    <tr style=\"text-align: right;\">\n",
              "      <th></th>\n",
              "      <th>rating</th>\n",
              "    </tr>\n",
              "  </thead>\n",
              "  <tbody>\n",
              "    <tr>\n",
              "      <th>count</th>\n",
              "      <td>45008.000000</td>\n",
              "    </tr>\n",
              "    <tr>\n",
              "      <th>mean</th>\n",
              "      <td>5.481914</td>\n",
              "    </tr>\n",
              "    <tr>\n",
              "      <th>std</th>\n",
              "      <td>3.494293</td>\n",
              "    </tr>\n",
              "    <tr>\n",
              "      <th>min</th>\n",
              "      <td>1.000000</td>\n",
              "    </tr>\n",
              "    <tr>\n",
              "      <th>25%</th>\n",
              "      <td>2.000000</td>\n",
              "    </tr>\n",
              "    <tr>\n",
              "      <th>50%</th>\n",
              "      <td>7.000000</td>\n",
              "    </tr>\n",
              "    <tr>\n",
              "      <th>75%</th>\n",
              "      <td>9.000000</td>\n",
              "    </tr>\n",
              "    <tr>\n",
              "      <th>max</th>\n",
              "      <td>10.000000</td>\n",
              "    </tr>\n",
              "  </tbody>\n",
              "</table>\n",
              "</div>\n",
              "      <button class=\"colab-df-convert\" onclick=\"convertToInteractive('df-8c2c3903-e043-49c3-b20c-3b446404eeb3')\"\n",
              "              title=\"Convert this dataframe to an interactive table.\"\n",
              "              style=\"display:none;\">\n",
              "        \n",
              "  <svg xmlns=\"http://www.w3.org/2000/svg\" height=\"24px\"viewBox=\"0 0 24 24\"\n",
              "       width=\"24px\">\n",
              "    <path d=\"M0 0h24v24H0V0z\" fill=\"none\"/>\n",
              "    <path d=\"M18.56 5.44l.94 2.06.94-2.06 2.06-.94-2.06-.94-.94-2.06-.94 2.06-2.06.94zm-11 1L8.5 8.5l.94-2.06 2.06-.94-2.06-.94L8.5 2.5l-.94 2.06-2.06.94zm10 10l.94 2.06.94-2.06 2.06-.94-2.06-.94-.94-2.06-.94 2.06-2.06.94z\"/><path d=\"M17.41 7.96l-1.37-1.37c-.4-.4-.92-.59-1.43-.59-.52 0-1.04.2-1.43.59L10.3 9.45l-7.72 7.72c-.78.78-.78 2.05 0 2.83L4 21.41c.39.39.9.59 1.41.59.51 0 1.02-.2 1.41-.59l7.78-7.78 2.81-2.81c.8-.78.8-2.07 0-2.86zM5.41 20L4 18.59l7.72-7.72 1.47 1.35L5.41 20z\"/>\n",
              "  </svg>\n",
              "      </button>\n",
              "      \n",
              "  <style>\n",
              "    .colab-df-container {\n",
              "      display:flex;\n",
              "      flex-wrap:wrap;\n",
              "      gap: 12px;\n",
              "    }\n",
              "\n",
              "    .colab-df-convert {\n",
              "      background-color: #E8F0FE;\n",
              "      border: none;\n",
              "      border-radius: 50%;\n",
              "      cursor: pointer;\n",
              "      display: none;\n",
              "      fill: #1967D2;\n",
              "      height: 32px;\n",
              "      padding: 0 0 0 0;\n",
              "      width: 32px;\n",
              "    }\n",
              "\n",
              "    .colab-df-convert:hover {\n",
              "      background-color: #E2EBFA;\n",
              "      box-shadow: 0px 1px 2px rgba(60, 64, 67, 0.3), 0px 1px 3px 1px rgba(60, 64, 67, 0.15);\n",
              "      fill: #174EA6;\n",
              "    }\n",
              "\n",
              "    [theme=dark] .colab-df-convert {\n",
              "      background-color: #3B4455;\n",
              "      fill: #D2E3FC;\n",
              "    }\n",
              "\n",
              "    [theme=dark] .colab-df-convert:hover {\n",
              "      background-color: #434B5C;\n",
              "      box-shadow: 0px 1px 3px 1px rgba(0, 0, 0, 0.15);\n",
              "      filter: drop-shadow(0px 1px 2px rgba(0, 0, 0, 0.3));\n",
              "      fill: #FFFFFF;\n",
              "    }\n",
              "  </style>\n",
              "\n",
              "      <script>\n",
              "        const buttonEl =\n",
              "          document.querySelector('#df-8c2c3903-e043-49c3-b20c-3b446404eeb3 button.colab-df-convert');\n",
              "        buttonEl.style.display =\n",
              "          google.colab.kernel.accessAllowed ? 'block' : 'none';\n",
              "\n",
              "        async function convertToInteractive(key) {\n",
              "          const element = document.querySelector('#df-8c2c3903-e043-49c3-b20c-3b446404eeb3');\n",
              "          const dataTable =\n",
              "            await google.colab.kernel.invokeFunction('convertToInteractive',\n",
              "                                                     [key], {});\n",
              "          if (!dataTable) return;\n",
              "\n",
              "          const docLinkHtml = 'Like what you see? Visit the ' +\n",
              "            '<a target=\"_blank\" href=https://colab.research.google.com/notebooks/data_table.ipynb>data table notebook</a>'\n",
              "            + ' to learn more about interactive tables.';\n",
              "          element.innerHTML = '';\n",
              "          dataTable['output_type'] = 'display_data';\n",
              "          await google.colab.output.renderOutput(dataTable, element);\n",
              "          const docLink = document.createElement('div');\n",
              "          docLink.innerHTML = docLinkHtml;\n",
              "          element.appendChild(docLink);\n",
              "        }\n",
              "      </script>\n",
              "    </div>\n",
              "  </div>\n",
              "  "
            ]
          },
          "metadata": {},
          "execution_count": 2
        }
      ]
    },
    {
      "cell_type": "code",
      "source": [
        "\n",
        "\n",
        "\n",
        "def preprocess(df):       #This function \n",
        "\n",
        "\n",
        "  df['review'] = df['review'].astype(str).str.lower()     #make everything lowercase\n",
        "  regexp = RegexpTokenizer('\\w+')\n",
        "  df['review']=df['review'].apply(regexp.tokenize)        #tokenize the reviews from strings to lists of words\n",
        "\n",
        "\n",
        "  bigwords = df['review'].apply(lambda x: ' '.join([item for item in x if len(item)>2]))      #keep only words that contain more that 2 letters\n",
        "\n",
        "  all_words = ' '.join([word for word in bigwords])      #merge them and tokenize them again to create a frequency dictionary\n",
        "  tw = nltk.tokenize.word_tokenize(all_words)\n",
        "\n",
        "  fdist = FreqDist(tw)\n",
        "\n",
        "\n",
        "  df['review'] = df['review'].apply(lambda x: ' '.join([item for item in x if fdist[item] >= 1 ]))  #remove not frequent words\n",
        "\n",
        "\n",
        "  lem = WordNetLemmatizer()\n",
        "\n",
        "  df['review'] = df['review'].apply(lem.lemmatize)                  #lematize\n",
        "\n",
        "\n",
        "\n",
        "  \n",
        "preprocess(df)\n",
        "\n",
        "if test_df != None:                     #if a testset is given, preprocess it\n",
        "  preprocess(test_df)"
      ],
      "metadata": {
        "id": "qkqUJ_zkLPLM"
      },
      "execution_count": 3,
      "outputs": []
    },
    {
      "cell_type": "code",
      "source": [
        "X=df.drop('rating', axis=1)\n",
        "X=df.drop('url', axis=1)\n",
        "Y = df[['rating']] # [[ ]] used to keep the label\n",
        "Y.loc[Y['rating'] <= 4, 'rating'] = 0                 #keep only valuable data, for X and Y\n",
        "Y.loc[Y['rating'] >= 7, 'rating'] = 1\n",
        "\n",
        "\n",
        "if test_df == None:\n",
        "  X_train_unvect, X_test_unvect, Y_train, Y_test = train_test_split(X, Y, test_size=0.3)              #if we are not given a test set, we will split our current data.\n",
        "else:\n",
        "  X_train_unvect = X\n",
        "  Y_train = Y\n",
        "  X_test_unvect = test_df.drop('rating', axis=1)\n",
        "  X_test_unvect = test_df.drop('url', axis=1)\n",
        "  Y_test = test_df[['rating']] # [[ ]] used to keep the label\n",
        "\n",
        "  Y_test.loc[Y_test['rating'] <= 4, 'rating'] = 0\n",
        "  Y_test.loc[Y_test['rating'] >= 7, 'rating'] = 1\n",
        "\n",
        "\n",
        "glove_input_file = 'glove.6B.300d.txt'\n",
        "w2v_output_file = 'glv_with_w2v_format.txt'\n",
        "\n",
        "\n",
        "glove2word2vec(glove_input_file, w2v_output_file)\n",
        "\n",
        "\n",
        "data=X_train_unvect['review']\n",
        "data2=X_test_unvect['review']\n",
        "\n",
        "\n",
        "\n",
        "model = KeyedVectors.load_word2vec_format(w2v_output_file, binary=False)\n",
        "\n",
        "warnings.simplefilter(action='ignore', category=FutureWarning)\n",
        "\n",
        "X_train=[]\n",
        "X_test=[]\n",
        "\n",
        "temp=0\n",
        "for row in data.str.split():\n",
        "  sum=0;\n",
        "  c=0;\n",
        "  for w in row:\n",
        "    if w in model.vocab:\n",
        "      sum+=model[w]\n",
        "      temp=model[w]\n",
        "      c+=1\n",
        "  X_train.append(sum/c)\n",
        "\n",
        "temp=0\n",
        "for row in data2.str.split():\n",
        "  sum=0;\n",
        "  c=0;\n",
        "  for w in row:\n",
        "    if w in model.vocab:\n",
        "      sum+=model[w]\n",
        "      temp=model[w]\n",
        "      c+=1\n",
        "  X_test.append(sum/c)\n",
        "\n"
      ],
      "metadata": {
        "id": "WtBJEzscLXj_",
        "colab": {
          "base_uri": "https://localhost:8080/"
        },
        "outputId": "b5c59e22-e93d-4c7b-b0f0-f02fff10f86e"
      },
      "execution_count": 4,
      "outputs": [
        {
          "output_type": "stream",
          "name": "stderr",
          "text": [
            "/usr/local/lib/python3.8/dist-packages/pandas/core/indexing.py:1732: SettingWithCopyWarning: \n",
            "A value is trying to be set on a copy of a slice from a DataFrame\n",
            "\n",
            "See the caveats in the documentation: https://pandas.pydata.org/pandas-docs/stable/user_guide/indexing.html#returning-a-view-versus-a-copy\n",
            "  self._setitem_single_block(indexer, value, name)\n",
            "/usr/local/lib/python3.8/dist-packages/pandas/core/indexing.py:723: SettingWithCopyWarning: \n",
            "A value is trying to be set on a copy of a slice from a DataFrame\n",
            "\n",
            "See the caveats in the documentation: https://pandas.pydata.org/pandas-docs/stable/user_guide/indexing.html#returning-a-view-versus-a-copy\n",
            "  iloc._setitem_with_indexer(indexer, value, self.name)\n"
          ]
        }
      ]
    },
    {
      "cell_type": "code",
      "source": [
        "X_train_tor=torch.tensor(np.array(X_train), dtype=torch.float)\n",
        "X_test_tor=torch.tensor(np.array(X_test), dtype=torch.float)\n",
        "Y_train_tor=torch.tensor(np.array(Y_train), dtype=torch.long)\n",
        "Y_test_tor=torch.tensor(np.array(Y_test), dtype=torch.float)\n",
        "\n",
        "\n",
        "print(f\"x train shape: {X_train_tor.shape}\")\n",
        "print(f\"x test shape: {X_test_tor.shape}\")\n",
        "print(f\"y train shape: {Y_train_tor.shape}\")\n",
        "print(f\"y test shape: {Y_test_tor.shape}\")"
      ],
      "metadata": {
        "colab": {
          "base_uri": "https://localhost:8080/"
        },
        "id": "tTjAtjR2LZk9",
        "outputId": "8c0c6084-0951-49cb-aef8-706d92626530"
      },
      "execution_count": 5,
      "outputs": [
        {
          "output_type": "stream",
          "name": "stdout",
          "text": [
            "x train shape: torch.Size([31505, 300])\n",
            "x test shape: torch.Size([13503, 300])\n",
            "y train shape: torch.Size([31505, 1])\n",
            "y test shape: torch.Size([13503, 1])\n"
          ]
        }
      ]
    },
    {
      "cell_type": "code",
      "source": [
        "# Imports\n",
        "import torch\n",
        "import torch.nn as nn\n",
        "import torch.nn.functional as F\n",
        "import torch.optim as optim\n",
        "import os\n",
        "import numpy as np\n",
        "# import torchvision\n",
        "# import torchvision.transforms as transforms\n",
        "import matplotlib.pyplot as plt\n",
        "%matplotlib inline\n",
        "import sklearn.metrics\n",
        "import seaborn as sns\n",
        "import random\n",
        "import sys\n",
        "from IPython.display import Image\n",
        "\n",
        "def set_seed(seed = 1234):\n",
        "    '''Sets the seed of the entire notebook so results are the same every time we run.\n",
        "        This is for REPRODUCIBILITY.\n",
        "    '''\n",
        "    np.random.seed(seed)\n",
        "    random.seed(seed)\n",
        "    torch.manual_seed(seed)\n",
        "    torch.cuda.manual_seed(seed)\n",
        "    # When running on the CuDNN backend, two further options must be set\n",
        "    torch.backends.cudnn.deterministic = True\n",
        "    # Set a fixed value for the hash seed\n",
        "    os.environ['PYTHONHASHSEED'] = str(seed)\n",
        "    \n",
        "set_seed()\n",
        "\n",
        "device = 'cpu'\n",
        "print('Working on:', device)"
      ],
      "metadata": {
        "colab": {
          "base_uri": "https://localhost:8080/"
        },
        "id": "V9xJKCqmMoCZ",
        "outputId": "3b889246-ed07-4f64-baea-75ec65eb4237"
      },
      "execution_count": 6,
      "outputs": [
        {
          "output_type": "stream",
          "name": "stdout",
          "text": [
            "Working on: cpu\n"
          ]
        }
      ]
    },
    {
      "cell_type": "code",
      "source": [
        "class RNN(nn.Module):\n",
        "    def __init__(self, cell_type, input_size, hidden_size, layers_size, output_size,clip,  p):\n",
        "        super(RNN, self).__init__()\n",
        "        cells = {\n",
        "        \"RNN\" : nn.RNN,\n",
        "        \"LSTM\"    : nn.LSTM,\n",
        "        \"GRU\"     : nn.GRU\n",
        "        }\n",
        "        self.cell_type = cell_type\n",
        "        self.rnn = cells[cell_type](input_size, hidden_size, layers_size, batch_first=True, bidirectional=True)\n",
        "        self.out = nn.Linear(hidden_size*5, output_size)\n",
        "        self.clip = clip\n",
        "        self.dropout = nn.Dropout(p)\n",
        "        self.attention_weight = nn.Parameter(torch.randn(hidden_size*2))\n",
        "        \n",
        "\n",
        "    def forward(self, x):\n",
        "        if self.cell_type == 'LSTM':\n",
        "            out, (h_n, h_c) = self.rnn(x) \n",
        "        else:\n",
        "            out, h_n = self.rnn(x)\n",
        "        out = self.dropout(out)\n",
        "        attn_scores = torch.sum(out * self.attention_weight, dim=2)\n",
        "        attn_scores = attn_scores.softmax(dim=1)\n",
        "        attn_applied = torch.einsum(\"ij,ijk->ik\", attn_scores, out)\n",
        "        out = torch.cat([x[:, -1, :], attn_applied], dim=-1)\n",
        "        out = self.dropout(out)\n",
        "        out = self.out(out)\n",
        "        return out\n",
        "\n",
        "\n",
        "    def backward(self, loss):\n",
        "        loss.backward()\n",
        "        nn.utils.clip_grad_norm_(self.parameters(), self.clip)\n",
        "\n",
        "        \n"
      ],
      "metadata": {
        "id": "PzgZS5EZOgAU"
      },
      "execution_count": 62,
      "outputs": []
    },
    {
      "cell_type": "code",
      "source": [
        "cell_type = 'LSTM'\n",
        "input_size = 300\n",
        "hidden_size = 100\n",
        "layers_size = 1\n",
        "output_size = 2\n",
        "clip=1000\n",
        "p=0.6\n",
        "\n",
        "\n",
        "EPOCH = 100\n",
        "LR = 1e-3\n",
        "\n",
        "# Initialize the model\n",
        "net = RNN(cell_type,input_size, hidden_size, layers_size, output_size,clip,p)\n",
        "\n",
        "optimizer = torch.optim.Adam(net.parameters(), lr=LR)   # optimize all net parameters\n",
        "loss_func = nn.CrossEntropyLoss()"
      ],
      "metadata": {
        "id": "TEiotIWP0_LT"
      },
      "execution_count": 63,
      "outputs": []
    },
    {
      "cell_type": "code",
      "source": [
        "dataset = torch.utils.data.TensorDataset(X_train_tor, Y_train_tor)\n",
        "dataloader = torch.utils.data.DataLoader(dataset, batch_size=20, shuffle=False)\n",
        "\n",
        "\n",
        "# Start train mode\n",
        "net.train()\n",
        "\n",
        "losses=[]\n",
        "for epoch in range(EPOCH):\n",
        "  batch_losses = 0.0\n",
        "\n",
        "  for x_batch, y_batch in dataloader:\n",
        "    # print(x_batch)\n",
        "    # print(y_batch)\n",
        "    x=x_batch.view(-1, 1, 300)\n",
        "    y_pred = net(x)\n",
        "    y=y_batch.view(-1)\n",
        "    # print(x)\n",
        "    # print(y)\n",
        "    # print(y_pred)\n",
        "    loss = loss_func(y_pred, y)\n",
        "    batch_losses+=loss.item()\n",
        "    \n",
        "    #Delete previously stored gradients\n",
        "    optimizer.zero_grad()\n",
        "    #Perform backpropagation starting from the loss calculated in this epoch\n",
        "    loss.backward()\n",
        "    #Update model's weights based on the gradients calculated during backprop\n",
        "    optimizer.step()\n",
        "  losses.append(batch_losses/len(dataloader))\n",
        "  # print(pred_y)\n",
        "  # print(Y_test_tor)\n",
        "  print(f\"Epoch {epoch:3}: Loss = {batch_losses/len(dataloader):.5f}\")\n",
        "\n",
        "plt.plot(list(range(1,EPOCH+1)),losses)\n"
      ],
      "metadata": {
        "id": "hjW4vOGgRGye",
        "colab": {
          "base_uri": "https://localhost:8080/",
          "height": 1000
        },
        "outputId": "429fd477-e817-41c9-b37f-bfea0f3c399c"
      },
      "execution_count": 64,
      "outputs": [
        {
          "output_type": "stream",
          "name": "stdout",
          "text": [
            "Epoch   0: Loss = 0.49098\n",
            "Epoch   1: Loss = 0.41678\n",
            "Epoch   2: Loss = 0.40646\n",
            "Epoch   3: Loss = 0.40072\n",
            "Epoch   4: Loss = 0.39457\n",
            "Epoch   5: Loss = 0.39248\n",
            "Epoch   6: Loss = 0.39174\n",
            "Epoch   7: Loss = 0.38825\n",
            "Epoch   8: Loss = 0.38834\n",
            "Epoch   9: Loss = 0.38569\n",
            "Epoch  10: Loss = 0.38269\n",
            "Epoch  11: Loss = 0.38046\n",
            "Epoch  12: Loss = 0.38121\n",
            "Epoch  13: Loss = 0.37991\n",
            "Epoch  14: Loss = 0.37829\n",
            "Epoch  15: Loss = 0.37806\n",
            "Epoch  16: Loss = 0.37728\n",
            "Epoch  17: Loss = 0.37554\n",
            "Epoch  18: Loss = 0.37511\n",
            "Epoch  19: Loss = 0.37427\n",
            "Epoch  20: Loss = 0.37320\n",
            "Epoch  21: Loss = 0.37201\n",
            "Epoch  22: Loss = 0.37066\n",
            "Epoch  23: Loss = 0.37176\n",
            "Epoch  24: Loss = 0.36834\n",
            "Epoch  25: Loss = 0.36863\n",
            "Epoch  26: Loss = 0.36967\n",
            "Epoch  27: Loss = 0.36877\n",
            "Epoch  28: Loss = 0.36696\n",
            "Epoch  29: Loss = 0.36590\n",
            "Epoch  30: Loss = 0.36512\n",
            "Epoch  31: Loss = 0.36623\n",
            "Epoch  32: Loss = 0.36368\n",
            "Epoch  33: Loss = 0.36385\n",
            "Epoch  34: Loss = 0.36464\n",
            "Epoch  35: Loss = 0.36502\n",
            "Epoch  36: Loss = 0.36179\n",
            "Epoch  37: Loss = 0.36323\n",
            "Epoch  38: Loss = 0.36152\n",
            "Epoch  39: Loss = 0.35945\n",
            "Epoch  40: Loss = 0.36129\n",
            "Epoch  41: Loss = 0.35848\n",
            "Epoch  42: Loss = 0.36059\n",
            "Epoch  43: Loss = 0.35763\n",
            "Epoch  44: Loss = 0.35823\n",
            "Epoch  45: Loss = 0.35821\n",
            "Epoch  46: Loss = 0.35702\n",
            "Epoch  47: Loss = 0.35609\n",
            "Epoch  48: Loss = 0.35665\n",
            "Epoch  49: Loss = 0.35494\n",
            "Epoch  50: Loss = 0.35459\n",
            "Epoch  51: Loss = 0.35498\n",
            "Epoch  52: Loss = 0.35416\n",
            "Epoch  53: Loss = 0.35602\n",
            "Epoch  54: Loss = 0.35295\n",
            "Epoch  55: Loss = 0.35372\n",
            "Epoch  56: Loss = 0.35326\n",
            "Epoch  57: Loss = 0.35179\n",
            "Epoch  58: Loss = 0.35210\n",
            "Epoch  59: Loss = 0.34936\n",
            "Epoch  60: Loss = 0.34914\n",
            "Epoch  61: Loss = 0.34916\n",
            "Epoch  62: Loss = 0.35005\n",
            "Epoch  63: Loss = 0.34958\n",
            "Epoch  64: Loss = 0.34805\n",
            "Epoch  65: Loss = 0.34875\n",
            "Epoch  66: Loss = 0.34855\n",
            "Epoch  67: Loss = 0.34712\n",
            "Epoch  68: Loss = 0.34870\n",
            "Epoch  69: Loss = 0.34652\n",
            "Epoch  70: Loss = 0.34701\n",
            "Epoch  71: Loss = 0.34533\n",
            "Epoch  72: Loss = 0.34431\n",
            "Epoch  73: Loss = 0.34535\n",
            "Epoch  74: Loss = 0.34533\n",
            "Epoch  75: Loss = 0.34412\n",
            "Epoch  76: Loss = 0.34286\n",
            "Epoch  77: Loss = 0.34191\n",
            "Epoch  78: Loss = 0.34393\n",
            "Epoch  79: Loss = 0.34278\n",
            "Epoch  80: Loss = 0.34037\n",
            "Epoch  81: Loss = 0.34130\n",
            "Epoch  82: Loss = 0.34194\n",
            "Epoch  83: Loss = 0.33976\n",
            "Epoch  84: Loss = 0.34103\n",
            "Epoch  85: Loss = 0.33907\n",
            "Epoch  86: Loss = 0.33857\n",
            "Epoch  87: Loss = 0.33863\n",
            "Epoch  88: Loss = 0.33881\n",
            "Epoch  89: Loss = 0.33877\n",
            "Epoch  90: Loss = 0.33804\n",
            "Epoch  91: Loss = 0.33604\n",
            "Epoch  92: Loss = 0.33568\n",
            "Epoch  93: Loss = 0.33575\n",
            "Epoch  94: Loss = 0.33558\n",
            "Epoch  95: Loss = 0.33381\n",
            "Epoch  96: Loss = 0.33506\n",
            "Epoch  97: Loss = 0.33446\n",
            "Epoch  98: Loss = 0.33405\n",
            "Epoch  99: Loss = 0.33123\n"
          ]
        },
        {
          "output_type": "execute_result",
          "data": {
            "text/plain": [
              "[<matplotlib.lines.Line2D at 0x7fb32d46ee80>]"
            ]
          },
          "metadata": {},
          "execution_count": 64
        },
        {
          "output_type": "display_data",
          "data": {
            "text/plain": [
              "<Figure size 432x288 with 1 Axes>"
            ],
            "image/png": "[encoded data removed]"
          },
          "metadata": {
            "needs_background": "light"
          }
        }
      ]
    },
    {
      "cell_type": "code",
      "source": [
        "from sklearn.metrics import accuracy_score\n",
        "net.eval();\n",
        "test_output = net(X_test_tor.view(-1, 1, 300))\n",
        "pred_y = test_output.view(-1,2)\n",
        "pred_y = pred_y.argmax(dim=1)\n",
        "y=Y_test_tor\n",
        "accuracy_score(y,pred_y)"
      ],
      "metadata": {
        "colab": {
          "base_uri": "https://localhost:8080/"
        },
        "id": "ZLjlxh3kJ60N",
        "outputId": "791ec29d-ad7c-4a3d-cca5-e629c3aeff36"
      },
      "execution_count": 65,
      "outputs": [
        {
          "output_type": "execute_result",
          "data": {
            "text/plain": [
              "0.8493668073761387"
            ]
          },
          "metadata": {},
          "execution_count": 65
        }
      ]
    },
    {
      "cell_type": "code",
      "source": [
        "list_f1=[]\n",
        "list_f1_train=[]\n",
        "list_sample_size=[]\n",
        "\n",
        "for times in range(10):\n",
        "  # training\n",
        "  #\n",
        "  X, X_unused, y, y_unused = train_test_split(X_train_tor, Y_train_tor, test_size=1 - (times * 0.1 + 0.001))\n",
        "\n",
        "\n",
        "  results_train = net(X.view(-1,1,300)).view(-1,2).argmax(dim=1)\n",
        "\n",
        "  # validation\n",
        "  # \n",
        "  results = net(X_test_tor.view(-1,1,300)).view(-1,2).argmax(dim=1)\n",
        "  \n",
        "\n",
        "  # score\n",
        "  #\n",
        "  f1_train = f1_score(np.array(y.detach().numpy()),results_train.detach().numpy(), average='macro')\n",
        "  print(\"F1 Score Train: \" + str(f1_train))\n",
        "\n",
        "  f1 = f1_score(Y_test, results.detach().numpy(), average='macro')\n",
        "  print(\"F1 Score Validation: \" + str(f1))\n",
        "\n",
        "  list_f1.append(f1)\n",
        "  list_f1_train.append(f1_train)\n",
        "  list_sample_size.append((times * 0.1 + 0.1))\n",
        "\n",
        "# print(plot_data)\n",
        "plt.plot(list_sample_size, list_f1)\n",
        "plt.plot(list_sample_size, list_f1_train)\n",
        "\n",
        "\n",
        "plt.legend([\"Validation\", \"Training\"])"
      ],
      "metadata": {
        "colab": {
          "base_uri": "https://localhost:8080/",
          "height": 630
        },
        "id": "49TcpAEgmT4_",
        "outputId": "19177559-ccbd-4d6e-e419-21ecd9b7e371"
      },
      "execution_count": 66,
      "outputs": [
        {
          "output_type": "stream",
          "name": "stdout",
          "text": [
            "F1 Score Train: 0.7732497387669801\n",
            "F1 Score Validation: 0.8491456617496336\n",
            "F1 Score Train: 0.8673600904019092\n",
            "F1 Score Validation: 0.8491456617496336\n",
            "F1 Score Train: 0.8667013780545865\n",
            "F1 Score Validation: 0.8491456617496336\n",
            "F1 Score Train: 0.8681673354226106\n",
            "F1 Score Validation: 0.8491456617496336\n",
            "F1 Score Train: 0.86483818748411\n",
            "F1 Score Validation: 0.8491456617496336\n",
            "F1 Score Train: 0.8704667449791436\n",
            "F1 Score Validation: 0.8491456617496336\n",
            "F1 Score Train: 0.8657706851178215\n",
            "F1 Score Validation: 0.8491456617496336\n",
            "F1 Score Train: 0.8675524688508884\n",
            "F1 Score Validation: 0.8491456617496336\n",
            "F1 Score Train: 0.8685076055413172\n",
            "F1 Score Validation: 0.8491456617496336\n",
            "F1 Score Train: 0.8669867650124887\n",
            "F1 Score Validation: 0.8491456617496336\n"
          ]
        },
        {
          "output_type": "execute_result",
          "data": {
            "text/plain": [
              "<matplotlib.legend.Legend at 0x7fb32533f460>"
            ]
          },
          "metadata": {},
          "execution_count": 66
        },
        {
          "output_type": "display_data",
          "data": {
            "text/plain": [
              "<Figure size 432x288 with 1 Axes>"
            ],
            "image/png": "[encoded data removed]"
          },
          "metadata": {
            "needs_background": "light"
          }
        }
      ]
    },
    {
      "cell_type": "code",
      "source": [
        "predictions_train = net(X_train_tor.view(-1,1,300)).view(-1,2).argmax(dim=1)\n",
        "predictions_val = net(X_test_tor.view(-1,1,300)).view(-1,2).argmax(dim=1)\n",
        "\n",
        "\n",
        "# F-Score\n",
        "\n",
        "f1_train = f1_score(Y_train, predictions_train)\n",
        "f1_val = f1_score(Y_test, predictions_val)\n",
        "\n",
        "print(\"F1 Score (train):\", f1_train)\n",
        "print(\"F1 Score (validation):\", f1_val)\n",
        "\n",
        "# Recall\n",
        "\n",
        "r_train = recall_score(Y_train, predictions_train)\n",
        "r_val = recall_score(Y_test, predictions_val)\n",
        "\n",
        "print(\"Recall Score (train):\", r_train)\n",
        "print(\"Recall Score (validation):\", r_val)\n",
        "\n",
        "# Prediction score\n",
        "\n",
        "p_train = precision_score(Y_train, predictions_train)\n",
        "p_val = precision_score(Y_test, predictions_val)\n",
        "\n",
        "print(\"Precision Score (train):\", p_train)\n",
        "print(\"Precision Score (validation):\", p_val)"
      ],
      "metadata": {
        "id": "bMGoD1_rmd0O",
        "colab": {
          "base_uri": "https://localhost:8080/"
        },
        "outputId": "f2adbaf0-cd10-453c-ac0f-a1c94d7f1827"
      },
      "execution_count": 67,
      "outputs": [
        {
          "output_type": "stream",
          "name": "stdout",
          "text": [
            "F1 Score (train): 0.8710447206123905\n",
            "F1 Score (validation): 0.8549215406562054\n",
            "Recall Score (train): 0.8953236493374108\n",
            "Recall Score (validation): 0.8797709923664122\n",
            "Precision Score (train): 0.8480477943395088\n",
            "Precision Score (validation): 0.8314372918978913\n"
          ]
        }
      ]
    },
    {
      "cell_type": "code",
      "source": [
        "model_scripted = torch.jit.script(net) # Export to TorchScript\n",
        "model_scripted.save('lstm_NN.pt') # Save\n",
        "model = torch.jit.load('lstm_NN.pt')\n",
        "model.eval()"
      ],
      "metadata": {
        "colab": {
          "base_uri": "https://localhost:8080/"
        },
        "id": "G-qfFTfmwJRI",
        "outputId": "671c70cf-b725-4bb5-b97d-d59758568687"
      },
      "execution_count": 69,
      "outputs": [
        {
          "output_type": "execute_result",
          "data": {
            "text/plain": [
              "RecursiveScriptModule(\n",
              "  original_name=RNN\n",
              "  (rnn): RecursiveScriptModule(original_name=LSTM)\n",
              "  (out): RecursiveScriptModule(original_name=Linear)\n",
              "  (dropout): RecursiveScriptModule(original_name=Dropout)\n",
              ")"
            ]
          },
          "metadata": {},
          "execution_count": 69
        }
      ]
    }
  ]
}